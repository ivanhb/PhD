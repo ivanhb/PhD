{
 "cells": [
  {
   "cell_type": "code",
   "execution_count": 37,
   "metadata": {},
   "outputs": [],
   "source": [
    "import json\n",
    "import os\n",
    "\n",
    "def gen_crossref_data():\n",
    "    PATH = \"../../../data/phd_thesis/dh_cr_dois_all_data/analysis_res_ex2_%s.json\"\n",
    "    for i in range(0,100):\n",
    "        a_j_path = PATH%i\n",
    "        if os.path.exists(a_j_path):\n",
    "            json_file = open(a_j_path)\n",
    "            list_data = json.load(json_file)\n",
    "\n",
    "            tot_count = len(list_data)\n",
    "            ref_list = []\n",
    "            doi_refs_list = []\n",
    "            nondoi_refs_list = []\n",
    "            for a_obj in list_data:\n",
    "                if \"reference\" in a_obj[\"message\"]:\n",
    "                    obj_refs = a_obj[\"message\"][\"reference\"]\n",
    "                    ref_list.append(len(obj_refs))\n",
    "                    ref_with_doi = 0\n",
    "                    for a_ref in obj_refs:\n",
    "                        if \"DOI\" in a_ref:\n",
    "                            ref_with_doi += 1\n",
    "\n",
    "                    doi_refs_list.append(ref_with_doi)\n",
    "                    nondoi_refs_list.append(len(obj_refs) - ref_with_doi)\n",
    "\n",
    "            avg_ref = -1\n",
    "            count_with_ref = len(ref_list)\n",
    "            if count_with_ref > 0:\n",
    "                avg_ref = sum(ref_list)/count_with_ref\n",
    "\n",
    "            avg_doi_refs = -1\n",
    "            count = len(doi_refs_list)\n",
    "            if count > 0:\n",
    "                avg_doi_refs = sum(doi_refs_list)/count\n",
    "\n",
    "            avg_nondoi_refs = -1\n",
    "            count = len(nondoi_refs_list)\n",
    "            if count > 0:\n",
    "                avg_nondoi_refs = sum(nondoi_refs_list)/count\n",
    "\n",
    "\n",
    "            print(str(i)+\": #with refs: \"+str(count_with_ref)+ \n",
    "                  \";\\n   out of: \"+ str(len(list_data))+\n",
    "                  \";\\n   average ref: \"+str(round(avg_ref,2))+\n",
    "                  \";\\n   average DOI refs: \"+str(round(avg_doi_refs,2))+\n",
    "                  \";\\n   average non-DOI refs: \"+str(round(avg_nondoi_refs,2))+\n",
    "                  \"\\n\"\n",
    "            )"
   ]
  },
  {
   "cell_type": "code",
   "execution_count": 38,
   "metadata": {},
   "outputs": [],
   "source": [
    "def store(str_content, dest_file, is_header = False):\n",
    "    if is_header:\n",
    "        if exists(dest_file):\n",
    "            return \"Header is in already\"\n",
    "    with open(dest_file, \"a\") as g:\n",
    "        g.write(str_content+\"\\n\")\n",
    "\n",
    "def store_json(data, dest_file):\n",
    "    with open(dest_file, 'w') as outfile:\n",
    "        json.dump(data, outfile)"
   ]
  },
  {
   "cell_type": "code",
   "execution_count": 14,
   "metadata": {},
   "outputs": [
    {
     "data": {
      "text/plain": [
       "{'key': 'B14',\n",
       " 'author': 'D’Alembert',\n",
       " 'year': '1751',\n",
       " 'article-title': 'Preliminary discourse',\n",
       " 'volume-title': 'Encyclopédie, ou dictionnaire raisonné des sciences, des arts et des métiers, etc.'}"
      ]
     },
     "execution_count": 14,
     "metadata": {},
     "output_type": "execute_result"
    }
   ],
   "source": [
    "all_ref[13]"
   ]
  },
  {
   "cell_type": "code",
   "execution_count": null,
   "metadata": {},
   "outputs": [],
   "source": [
    "store(\"id,doi\", dest_file, True)"
   ]
  }
 ],
 "metadata": {
  "kernelspec": {
   "display_name": "Python 3",
   "language": "python",
   "name": "python3"
  },
  "language_info": {
   "codemirror_mode": {
    "name": "ipython",
    "version": 3
   },
   "file_extension": ".py",
   "mimetype": "text/x-python",
   "name": "python",
   "nbconvert_exporter": "python",
   "pygments_lexer": "ipython3",
   "version": "3.7.3"
  }
 },
 "nbformat": 4,
 "nbformat_minor": 2
}
