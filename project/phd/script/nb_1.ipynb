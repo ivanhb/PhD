{
 "cells": [
  {
   "cell_type": "code",
   "execution_count": 10,
   "metadata": {},
   "outputs": [],
   "source": [
    "import re\n",
    "import os"
   ]
  },
  {
   "cell_type": "code",
   "execution_count": 9,
   "metadata": {},
   "outputs": [],
   "source": [
    "dh_journals_cr_dois = open(\"../../../data/phd_thesis/dh_journals_analysis/dh_journals_cr_dois.csv\")\n",
    "\n",
    "COCI_API_REFS = \"https://opencitations.net/index/coci/api/v1/references/%s\""
   ]
  },
  {
   "cell_type": "code",
   "execution_count": null,
   "metadata": {},
   "outputs": [],
   "source": [
    "params = \"\"\n",
    "req_call = call%issn_value\n",
    "print(\"Calling ... \"+req_call+params)\n",
    "response = requests.get(req_call+params)\n",
    "res_dois = __dois\n",
    "\n",
    "if response.status_code == 200:\n",
    "    json_data = json.loads(response.content)"
   ]
  },
  {
   "cell_type": "code",
   "execution_count": 16,
   "metadata": {},
   "outputs": [],
   "source": [
    "import datetime\n",
    "import isodate\n",
    "d_a = isodate.parse_duration('P6Y11M')\n",
    "d_b = isodate.parse_duration(\"P41Y1D\")"
   ]
  }
 ],
 "metadata": {
  "kernelspec": {
   "display_name": "Python 3",
   "language": "python",
   "name": "python3"
  },
  "language_info": {
   "codemirror_mode": {
    "name": "ipython",
    "version": 3
   },
   "file_extension": ".py",
   "mimetype": "text/x-python",
   "name": "python",
   "nbconvert_exporter": "python",
   "pygments_lexer": "ipython3",
   "version": "3.7.3"
  }
 },
 "nbformat": 4,
 "nbformat_minor": 2
}
