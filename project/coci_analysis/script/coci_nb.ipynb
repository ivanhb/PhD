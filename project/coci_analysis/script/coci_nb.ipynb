{
 "cells": [
  {
   "cell_type": "markdown",
   "metadata": {},
   "source": [
    "# COCI Data Analysis "
   ]
  },
  {
   "cell_type": "markdown",
   "metadata": {},
   "source": [
    "An analysis on COCI to check the percentage of citations in COCI compared with the other main open citations repositories."
   ]
  },
  {
   "cell_type": "markdown",
   "metadata": {},
   "source": [
    "### An example with a small sample"
   ]
  },
  {
   "cell_type": "code",
   "execution_count": 1,
   "metadata": {},
   "outputs": [],
   "source": [
    "DATA_PATH = \"../../../data/coci-dataset/coci_sample.csv\"\n",
    "CITING_CSV_INDEX = 0\n",
    "CITED_CSV_INDEX = 1\n",
    "\n",
    "#Define my COCI inner vars {<VAR-NAME>: <CSV-INDEX>}\n",
    "COCI_KEY = CITING_CSV_INDEX\n",
    "VAR_INDEX = {}\n",
    "VAR_INDEX['CITING_DOI'] = CITING_CSV_INDEX\n",
    "\n",
    "# The dataset we wish to campare COCI with \n",
    "# we can use variables from VAR_INDEX to put inside here\n",
    "DATASETS_TO_COMPARE = {}\n",
    "DATASETS_TO_COMPARE['wikidata'] = \"https://opencitations.net/wikidata/api/v1/metadata/[[CITING_DOI]]\"\n",
    "\n",
    "#Processing Buffer: number of citations\n",
    "#Consider COCI have 445,826,118 Citaions \n",
    "BUFFER = 1000000\n",
    "PROCESS_DIR = \"../data\""
   ]
  },
  {
   "cell_type": "code",
   "execution_count": 2,
   "metadata": {},
   "outputs": [],
   "source": [
    "import csv\n",
    "import os, os.path\n",
    "import re\n",
    "import requests\n",
    "import json\n",
    "\n",
    "with open(DATA_PATH) as csv_file:\n",
    "    csv_reader = csv.reader(csv_file, delimiter=',')\n",
    "    buffer_count = BUFFER\n",
    "    results = {}\n",
    "    for row in csv_reader:\n",
    "        \n",
    "        #Dump the buffer on a file\n",
    "        if buffer_count == 0:\n",
    "            files_processed = len([name for name in os.listdir(PROCESS_DIR) if os.path.isfile(name)])\n",
    "            f_name = str(files_processed)+\".csv\"\n",
    "            # -> Build the csv header\n",
    "            HEADER = \"citing,coci_refs,\"\n",
    "            for k_compare_ds in DATASETS_TO_COMPARE:\n",
    "                HEADER = HEADER + k_compare_ds + \",\"\n",
    "            HEADER = HEADER[:-1] + \"\\n\"    \n",
    "            # -> write the csv\n",
    "            with open(PROCESS_DIR+\"/\"+f_name, 'w') as d_file:\n",
    "                d_file.write(file_value)\n",
    "            # -> reset vars\n",
    "            buffer_count = BUFFER\n",
    "            results = {}\n",
    "        \n",
    "        #for each citation of COCI \n",
    "        # -> select and define the vars needed\n",
    "        var_values = {}\n",
    "        for var_k in VAR_INDEX:\n",
    "            var_values[var_k] = row[VAR_INDEX[var_k]]\n",
    "        \n",
    "        # -> check the other RESOURCES \n",
    "        ds_to_compare = {}\n",
    "        for ds_compare_k in DATASETS_TO_COMPARE:\n",
    "            # -> Normalize the API call with corresponding value\n",
    "            api_call = DATASETS_TO_COMPARE[ds_compare_k]\n",
    "            var_key_list = re.findall(r\"\\[\\[(.*)\\]\\]\",api_call)\n",
    "            for v_k in var_key_list:\n",
    "                if v_k in var_values:\n",
    "                    api_call = api_call.replace(\"[[\"+v_k+\"]]\",var_values[v_k])\n",
    "            ds_to_compare[ds_compare_k] = api_call\n",
    "        \n",
    "        # -> Compare now\n",
    "        for ds_compare_k in ds_to_compare:\n",
    "            results[ds_compare_k] = []\n",
    "            res = requests.get(ds_to_compare[ds_compare_k])\n",
    "            my_json = res.content.decode('utf8').replace(\"'\", '\"')\n",
    "            get_data = json.loads(my_json)\n",
    "            \n",
    "            #check if is empty \n",
    "            res_val = 0\n",
    "            if len(get_data) != 0:\n",
    "                # select the references according to the dataset type\n",
    "                if ds_compare_k == \"wikidata\":\n",
    "                    res_val = len(get_data[0]['reference'].split(\";\"))\n",
    "                else:\n",
    "                    res_val = 0\n",
    "                    \n",
    "        #PUSH CITING, INCOCI, ... etc \n",
    "        results[ds_compare_k].append({'CITING'})"
   ]
  },
  {
   "cell_type": "code",
   "execution_count": null,
   "metadata": {},
   "outputs": [],
   "source": []
  },
  {
   "cell_type": "code",
   "execution_count": null,
   "metadata": {},
   "outputs": [],
   "source": []
  }
 ],
 "metadata": {
  "kernelspec": {
   "display_name": "Python 3",
   "language": "python",
   "name": "python3"
  },
  "language_info": {
   "codemirror_mode": {
    "name": "ipython",
    "version": 3
   },
   "file_extension": ".py",
   "mimetype": "text/x-python",
   "name": "python",
   "nbconvert_exporter": "python",
   "pygments_lexer": "ipython3",
   "version": "3.6.5"
  }
 },
 "nbformat": 4,
 "nbformat_minor": 2
}
