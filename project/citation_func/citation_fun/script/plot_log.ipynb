{
 "cells": [
  {
   "cell_type": "code",
   "execution_count": 1,
   "metadata": {},
   "outputs": [],
   "source": [
    "import csv\n",
    "import matplotlib.pyplot as plt\n",
    "from matplotlib.pyplot import figure\n",
    "from matplotlib import colors as mcolors\n",
    "import os\n",
    "from datetime import datetime\n",
    "import bisect \n",
    "import re\n",
    "\n",
    "colors = dict(mcolors.BASE_COLORS, **mcolors.CSS4_COLORS)"
   ]
  },
  {
   "cell_type": "markdown",
   "metadata": {},
   "source": [
    "with open(csvpath+\"result.csv\",newline='') as f:\n",
    "    r = csv.reader(f)\n",
    "    data = [line for line in r]\n",
    "with open(csvpath+\"result.csv\",'w',newline='') as f:\n",
    "    w = csv.writer(f)\n",
    "    w.writerow(['doi','count_ref','ref','journal','1','2','3','4','5'])\n",
    "    w.writerows(data)"
   ]
  },
  {
   "cell_type": "code",
   "execution_count": 2,
   "metadata": {},
   "outputs": [],
   "source": [
    "def scanLog(csvlogpath, txt_to_search, txt_field, printit = False):\n",
    "    with open(csvlogpath) as csvfile:\n",
    "        print('SCANNING ' + csvlogpath)\n",
    "        reader = csv.DictReader(csvfile)\n",
    "        count = 0\n",
    "        data = []\n",
    "        \n",
    "        for row in reader:\n",
    "            is_ok = True\n",
    "            for i in range(len(txt_field)):\n",
    "                \n",
    "                pattern = re.compile(txt_to_search[i])\n",
    "                if pattern.match(row[txt_field[i]]):\n",
    "                    is_ok = True\n",
    "                else:\n",
    "                    is_ok = False\n",
    "                    break\n",
    "            \n",
    "            if is_ok:\n",
    "                count += 1\n",
    "                \n",
    "                my_val = {}\n",
    "                for i in range(len(txt_field)):\n",
    "                    my_val[txt_field[i]] = row[txt_field[i]]\n",
    "                #data.append(my_val)\n",
    "                data.append(row)\n",
    "            \n",
    "        return {'count': count, 'value': data}\n",
    "    \n",
    "def plotLines(data,opt = {}, logit= False):\n",
    "    for d in data:\n",
    "        my_color = None\n",
    "        if 'color' in opt:\n",
    "            if d in opt['color']:\n",
    "                my_color = opt['color'][d]\n",
    "\n",
    "        my_width = None\n",
    "        if 'width' in opt:\n",
    "            if d in opt['width']:\n",
    "                my_width = opt['width'][d]\n",
    "        plt.plot(data[d]['x'],data[d]['y'], label=d, color=my_color, linewidth=my_width)\n",
    "        if logit:\n",
    "            plt.yscale('log')\n",
    "            \n",
    "        plt.xticks(data[d]['x'],[item.strftime('%Y-%m') for item in data[d]['x']])\n",
    "    return plt\n",
    "\n",
    "def plotPie(data,opt ={}, logit= False):\n",
    "    \n",
    "    #explode = (0.05, 0.05, 0.05, 0.05)\n",
    "   #autopct='%1.1f%%' \n",
    "    fig1, ax1 = plt.subplots()\n",
    "    ax1.pie(data['sizes'], labels=data['labels'])\n",
    "    ax1.axis('equal')  # Equal aspect ratio ensures that pie is drawn as a circle.\n",
    "    return plt\n",
    "    "
   ]
  },
  {
   "cell_type": "code",
   "execution_count": 9,
   "metadata": {},
   "outputs": [],
   "source": [
    "def buildData(txt_list, txt_field_list, csvpath, not_inc = []):\n",
    "    data = {'x':[],'y':[],'value':[]}\n",
    "    for filename in os.listdir(csvpath):\n",
    "        if filename.endswith(\".csv\") and filename not in not_inc : \n",
    "            csvlogpath = csvpath+filename\n",
    "            scanner = scanLog(csvlogpath,txt_list, txt_field_list)\n",
    "            date = filename.replace(\"oc-\", \"\").replace(\".csv\", \"\")\n",
    "\n",
    "            #date_val = datetime.strptime(date, '%Y-%m')\n",
    "            date_val = \"result\"\n",
    "            bisect.insort(data['x'],date_val) \n",
    "            ord_index = data['x'].index(date_val)\n",
    "            data['y'].insert(ord_index,scanner['count'])\n",
    "            data['value'].insert(ord_index,scanner['value'])\n",
    "        else:\n",
    "            continue\n",
    "        \n",
    "    return data"
   ]
  },
  {
   "cell_type": "code",
   "execution_count": 10,
   "metadata": {},
   "outputs": [],
   "source": [
    "csvpath = '/Users/ivan.heibi/PhD/citation_fun/'\n",
    "#TIME,REMOTE_ADDR,HTTP_USER_AGENT,HTTP_REFERER(from),HTTP_HOST,REQUEST_URI(to)"
   ]
  },
  {
   "cell_type": "code",
   "execution_count": 41,
   "metadata": {},
   "outputs": [],
   "source": [
    "data = {}"
   ]
  },
  {
   "cell_type": "code",
   "execution_count": 42,
   "metadata": {},
   "outputs": [
    {
     "name": "stdout",
     "output_type": "stream",
     "text": [
      "SCANNING /Users/ivan.heibi/PhD/citation_fun/result.csv\n"
     ]
    }
   ],
   "source": [
    "data['journal'] = buildData(['.*'], ['4'], csvpath)"
   ]
  },
  {
   "cell_type": "code",
   "execution_count": 44,
   "metadata": {},
   "outputs": [
    {
     "name": "stdout",
     "output_type": "stream",
     "text": [
      "6313\n"
     ]
    }
   ],
   "source": [
    "print(len(data['journal']['value'][0]))"
   ]
  },
  {
   "cell_type": "code",
   "execution_count": 58,
   "metadata": {},
   "outputs": [],
   "source": [
    "journals = {}\n",
    "for elem in data['journal']['value'][0]:\n",
    "    if elem['4'] in journals:\n",
    "        journals[elem['4']] += 1\n",
    "    else:\n",
    "        journals[elem['4']] = 1"
   ]
  },
  {
   "cell_type": "code",
   "execution_count": 61,
   "metadata": {},
   "outputs": [],
   "source": [
    "journals = {}\n",
    "for elem in data['journal']['value'][0]:\n",
    "    if elem['4'] in journals:\n",
    "        journals[elem['4']].append(elem['3'])\n",
    "    else:\n",
    "        journals[elem['4']] = [elem['3']]"
   ]
  },
  {
   "cell_type": "code",
   "execution_count": 62,
   "metadata": {},
   "outputs": [],
   "source": [
    "arr = []\n",
    "for elem in journals:\n",
    "    arr.append((elem,journals[elem]))\n"
   ]
  },
  {
   "cell_type": "code",
   "execution_count": 64,
   "metadata": {},
   "outputs": [],
   "source": [
    "s_arr = sorted(arr, key=lambda tup: tup[1],reverse = True)"
   ]
  },
  {
   "cell_type": "code",
   "execution_count": 66,
   "metadata": {},
   "outputs": [
    {
     "data": {
      "text/plain": [
       "('The Journal Of Environmental Education',\n",
       " ['The Evolution Of Ee As Inferred From Citation Analysis',\n",
       "  'A Bibliometric Analysis Of The Literature Of Environmental Education'])"
      ]
     },
     "execution_count": 66,
     "metadata": {},
     "output_type": "execute_result"
    }
   ],
   "source": [
    "s_arr[301]"
   ]
  },
  {
   "cell_type": "code",
   "execution_count": null,
   "metadata": {},
   "outputs": [],
   "source": []
  }
 ],
 "metadata": {
  "kernelspec": {
   "display_name": "Python 3",
   "language": "python",
   "name": "python3"
  },
  "language_info": {
   "codemirror_mode": {
    "name": "ipython",
    "version": 3
   },
   "file_extension": ".py",
   "mimetype": "text/x-python",
   "name": "python",
   "nbconvert_exporter": "python",
   "pygments_lexer": "ipython3",
   "version": "3.6.5"
  }
 },
 "nbformat": 4,
 "nbformat_minor": 2
}
