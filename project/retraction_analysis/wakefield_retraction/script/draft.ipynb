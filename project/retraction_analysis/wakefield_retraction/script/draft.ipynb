{
 "cells": [
  {
   "cell_type": "code",
   "execution_count": 2,
   "metadata": {},
   "outputs": [],
   "source": [
    "import csv\n",
    "import re\n",
    "import requests\n",
    "import os\n",
    "from datetime import datetime\n",
    "import pandas as pd \n",
    "import numpy as np\n",
    "from collections import defaultdict\n",
    "import pprint\n",
    "import norm "
   ]
  },
  {
   "cell_type": "code",
   "execution_count": null,
   "metadata": {},
   "outputs": [],
   "source": [
    "regex = r\"(\\w{1})\\-\\s(\\w{1})\"\n",
    "matches = re.finditer(regex, x, re.MULTILINE)\n",
    "    match = None\n",
    "    for matchNum, match in enumerate(matches, start=1):"
   ]
  },
  {
   "cell_type": "code",
   "execution_count": 3,
   "metadata": {},
   "outputs": [
    {
     "data": {
      "text/plain": [
       "'More recently, measlesmumps-rubella (MMR) vaccine was portrayed as associated with infla atory bowel disease, Crohn’s disease, and autism in news reports, triggered by articles in British journals in 1997 and early 1998.19–21 Multiple subsequent analyses pointed out the logical and biological flaws in these assertions and failed to find any such association.5–6,16,22–26 \\n'"
      ]
     },
     "execution_count": 3,
     "metadata": {},
     "output_type": "execute_result"
    }
   ],
   "source": [
    "import re\n",
    "x = \"\"\"More recently, measles- mumps-rubella (MMR) vaccine was portrayed as associated with infla atory bowel disease, Crohn’s dis- ease, and autism in news reports, triggered by articles in British jour- nals in 1997 and early 1998.19–21 Multiple subsequent analyses point- ed out the logical and biological flaws in these assertions and failed to find any such association.5–6,16,22–26 \n",
    "\"\"\"\n",
    "re.sub(r\"(\\w{1})\\-\\s(\\w{1})\", r\"\\1\\2\", x)\n"
   ]
  },
  {
   "cell_type": "code",
   "execution_count": null,
   "metadata": {},
   "outputs": [],
   "source": [
    "# Get values from external services\n",
    "with open(\"csv/cits_in_coci.csv\", mode='r') as csv_file:\n",
    "    csv_reader = csv.DictReader(csv_file)\n",
    "    list_dois = [row[\"doi\"] for row in csv_reader]\n",
    "\n",
    "coci_meta_items = coci_metadata(list_dois,retracted_doi)\n",
    "write_list([v for k,v in coci_meta_items.items()], \"coci_cits.csv\", header= False)"
   ]
  },
  {
   "cell_type": "code",
   "execution_count": null,
   "metadata": {},
   "outputs": [],
   "source": [
    "#GET ISSNs\n",
    "citing_sources = coci_call(\"metadata\",[k for k in COCI_CITS_DICT],[\"source_title\",\"source_id\"])"
   ]
  },
  {
   "cell_type": "code",
   "execution_count": null,
   "metadata": {},
   "outputs": [],
   "source": [
    "#add dois to the sources\n",
    "dict_sources = defaultdict(list)\n",
    "with open(coci_cits, mode='r') as csv_file:\n",
    "    csv_reader = csv.DictReader(csv_file)\n",
    "    for row in csv_reader:\n",
    "        dict_sources[(row[\"creation\"][0:4],row[\"source_title\"],row[\"source_id\"])].append(row[\"citing\"])"
   ]
  },
  {
   "cell_type": "code",
   "execution_count": null,
   "metadata": {},
   "outputs": [],
   "source": [
    "final = []\n",
    "with open(coci_sources, mode='r') as csv_file:\n",
    "    csv_reader = csv.DictReader(csv_file)\n",
    "    for row in csv_reader:\n",
    "        new_row = row\n",
    "        new_row[\"doi\"] = \"\"\n",
    "        a_key = (row[\"date\"],row[\"source_title\"],row[\"source_id\"])\n",
    "        if a_key in dict_sources:\n",
    "            new_row[\"doi\"] =  \"[[;;]]\".join(dict_sources[a_key])\n",
    "        final.append(new_row)"
   ]
  },
  {
   "cell_type": "code",
   "execution_count": null,
   "metadata": {},
   "outputs": [],
   "source": [
    "write_list(final, \"coci_sources_extended.csv\", header= False)"
   ]
  },
  {
   "cell_type": "code",
   "execution_count": null,
   "metadata": {},
   "outputs": [],
   "source": [
    "#Write sources on csv\n",
    "all_sources = []\n",
    "for k,v in SOURCES_BY_YEAR.items():\n",
    "    for item in v: \n",
    "        all_sources.append({\"year\": k, \"source_title\": item[0], \"source_id\": item[1]})\n",
    "write_list(all_sources, \"coci_sources.csv\", header= False)"
   ]
  },
  {
   "cell_type": "code",
   "execution_count": null,
   "metadata": {},
   "outputs": [],
   "source": [
    "READY_TO_CSV = []\n",
    "for k,v in SUBJECTS.items():\n",
    "    for k_area in v:\n",
    "        READY_TO_CSV.append({\"subject\":k,\"area\":k_area,\"count\":v[k_area]})\n",
    "\n",
    "write_list(READY_TO_CSV, \"sources_test.csv\", header= False)"
   ]
  },
  {
   "cell_type": "code",
   "execution_count": 4,
   "metadata": {},
   "outputs": [],
   "source": [
    "coci_intext_ref = {}\n",
    "with open(\"../data/coci_intext_ref.csv\") as csv_file:\n",
    "    csv_reader = csv.reader(csv_file, delimiter=',') \n",
    "    header = next(csv_reader)\n",
    "    for row in csv_reader:\n",
    "        dois = norm.norm_dois(row[1])\n",
    "        coci_intext_ref[dois[0]] = { header[i] : row[i] for i in range(0,len(header)) }\n",
    "        "
   ]
  },
  {
   "cell_type": "code",
   "execution_count": 9,
   "metadata": {},
   "outputs": [
    {
     "ename": "KeyError",
     "evalue": "'10.1016/s0140-6736(97)11096-0'",
     "output_type": "error",
     "traceback": [
      "\u001b[0;31m---------------------------------------------------------------------------\u001b[0m",
      "\u001b[0;31mKeyError\u001b[0m                                  Traceback (most recent call last)",
      "\u001b[0;32m<ipython-input-9-cffd553c7077>\u001b[0m in \u001b[0;36m<module>\u001b[0;34m\u001b[0m\n\u001b[1;32m     15\u001b[0m                 \u001b[0mcategory\u001b[0m \u001b[0;34m=\u001b[0m \u001b[0mrow\u001b[0m\u001b[0;34m[\u001b[0m\u001b[0;36m1\u001b[0m\u001b[0;34m]\u001b[0m\u001b[0;34m\u001b[0m\u001b[0;34m\u001b[0m\u001b[0m\n\u001b[1;32m     16\u001b[0m \u001b[0;34m\u001b[0m\u001b[0m\n\u001b[0;32m---> 17\u001b[0;31m             \u001b[0mcoci_intext_ref\u001b[0m\u001b[0;34m[\u001b[0m\u001b[0mdoi\u001b[0m\u001b[0;34m]\u001b[0m\u001b[0;34m[\u001b[0m\u001b[0;34m\"source_title\"\u001b[0m\u001b[0;34m]\u001b[0m \u001b[0;34m=\u001b[0m \u001b[0msource_title\u001b[0m\u001b[0;34m\u001b[0m\u001b[0;34m\u001b[0m\u001b[0m\n\u001b[0m\u001b[1;32m     18\u001b[0m             \u001b[0mcoci_intext_ref\u001b[0m\u001b[0;34m[\u001b[0m\u001b[0mdoi\u001b[0m\u001b[0;34m]\u001b[0m\u001b[0;34m[\u001b[0m\u001b[0;34m\"source_id\"\u001b[0m\u001b[0;34m]\u001b[0m \u001b[0;34m=\u001b[0m \u001b[0msource_id\u001b[0m\u001b[0;34m\u001b[0m\u001b[0;34m\u001b[0m\u001b[0m\n\u001b[1;32m     19\u001b[0m             \u001b[0mcoci_intext_ref\u001b[0m\u001b[0;34m[\u001b[0m\u001b[0mdoi\u001b[0m\u001b[0;34m]\u001b[0m\u001b[0;34m[\u001b[0m\u001b[0;34m\"area\"\u001b[0m\u001b[0;34m]\u001b[0m \u001b[0;34m=\u001b[0m \u001b[0marea\u001b[0m\u001b[0;34m\u001b[0m\u001b[0;34m\u001b[0m\u001b[0m\n",
      "\u001b[0;31mKeyError\u001b[0m: '10.1016/s0140-6736(97)11096-0'"
     ]
    }
   ],
   "source": [
    "with open(\"../data/index/coci_sources.csv\") as csv_file:\n",
    "    csv_reader = csv.reader(csv_file, delimiter=',') \n",
    "    next(csv_reader)\n",
    "    for row in csv_reader:\n",
    "        dois = norm.norm_dois(row[4])\n",
    "        for doi in dois:\n",
    "            source_title = \"\"\n",
    "            source_id = \"\"\n",
    "            area = \"\"\n",
    "            category = \"\"\n",
    "            if doi in coci_intext_ref:\n",
    "                source_title = row[2]   \n",
    "                source_id = row[3]   \n",
    "                area = row[0]   \n",
    "                category = row[1]   \n",
    "                \n",
    "            coci_intext_ref[doi][\"source_title\"] = source_title\n",
    "            coci_intext_ref[doi][\"source_id\"] = source_id\n",
    "            coci_intext_ref[doi][\"area\"] = area\n",
    "            coci_intext_ref[doi][\"category\"] = category"
   ]
  },
  {
   "cell_type": "code",
   "execution_count": 8,
   "metadata": {},
   "outputs": [
    {
     "data": {
      "text/plain": [
       "{'date': '2002',\n",
       " 'doi': '10.1038/sj.mp.4001181',\n",
       " 'full_text_source': 'doi.org',\n",
       " 'title': 'MMR vaccine and autism: a review of the evidence for a causal association\\n',\n",
       " 'abstract': 'None',\n",
       " 'section': 'none',\n",
       " 'intext_ref': \"The hypothesis that combined measles-mumps-rubella (MMR) vaccine may cause autism was advanced by Wakefield and colleagues in a report describing 12 patients with inflammatory bowel conditions and regressive developmental disorders, primarily autism.1\\xa0The authors hypothesized that MMR vaccine may have been responsible for the bowel dysfunction which subsequently resulted in the neurodevelopmental disorders.;;\\nThe main evidence of an association with vaccination was that for eight of the 12 cases the child's parents or pediatrician suspected that MMR vaccine may have contributed to the onset of behavioral problems. The authors speculated that persistent measles virus infection of the gastrointestinal tract could have resulted in pathologic changes that allowed gastrointestinal absorption of toxic neuropeptides which then caused central nervous system damage and neurodevelopmental regression.1\\nThere are a number of limitations to evidence from the case reports.;;\",\n",
       " 'cito_fun': 'describes;;\\ndisputes;;',\n",
       " 'sentiment': 'neutral;;\\nnegative;;',\n",
       " 'ret_mention': 'no;;',\n",
       " 'retracted': 'no',\n",
       " 'note': 'This article has no paragraphs in it.'}"
      ]
     },
     "execution_count": 8,
     "metadata": {},
     "output_type": "execute_result"
    }
   ],
   "source": [
    "coci_intext_ref[\"10.1038/sj.mp.4001181\"]"
   ]
  },
  {
   "cell_type": "code",
   "execution_count": 7,
   "metadata": {},
   "outputs": [
    {
     "name": "stdout",
     "output_type": "stream",
     "text": [
      "dict_values(['1998', '10.1002/jppr1998286443', 'doi.org', 'Controversies in Vaccination with Measles, Mumps, Rubella (MMR) Vaccine', 'Many people remember the extensive adverse publicity surrounding pertussis vaccine in the 1970s which led to public concern about the safety of vaccines. Subsequently, follow‐up indicated no causal link between pertussis vaccination and brain damage although the risk of recurrent collapse (shock‐like syndrome or so‐called hypotonic‐hyporesponsive episode) with a benign outcome, after such vaccination is higher than the background rate', 'none', \"In the United Kingdom from 1976-88 there were three major pertussis epidemics accounting for over 300 000 notifications and at least 70 deaths. 4 A recent 'early report' linked MMR vaccination with non-specific colitis and pervasive developmental disorder in children. 5 The suggestion that measles infection is causally linked to Crohn's disease had been disproved already6 but there has since been a decrease in MMR vaccination uptake with the potential for future morbidity. 7;;\\nThe suggestion that measles infection is causally linked to Crohn's disease had been disproved already6 but there has since been a decrease in MMR vaccination uptake with the potential for future morbidity. 7 The basis for the early report was 12 children whose parents had reported the onset of bowel disease and autism soon after MMR vaccination. 5The age when these conditions first appear however, is also the age for MMR vaccination. ;;\\nThe publication of the 'early report' based on only 12 patients resulted in a prodigious correspondence which canvassed the rift which can exist between clinical medicine and public health, 12 and the inadequacy of evidence related to problems of methodology. 11-21 The controversy in that correspondence was whether or not the paper byWakefield5 should have been accepted for publication. It attracted mass media attention and generated considerable public concern despite the lack of evidence linking MMR vaccination with the conditions suffered by the 12 children. ;;\", 'Disputes;;\\ndiscusses;;\\ndisputes;;', 'neutral;;\\nneutral;;\\nneutral;;', 'no;;', 'no', 'This article is a letter.', 'Journal of Pharmacy Practice and Research', 'issn:2055-2335; issn: 1445-937X', 'Medicine', 'Pharmacology (medical);;'])\n"
     ]
    }
   ],
   "source": [
    "w = csv.writer(open(\"complete.csv\",\"w\"))\n",
    "#w.writerow(list(r.keys()))\n",
    "#print(list(coci_intext_ref.values())[0].values())\n",
    "a_list = list(coci_intext_ref.values())\n",
    "for r in a_list:\n",
    "    print(r.values())\n",
    "    break\n",
    "    #w.writerow(list(r.values()))\n"
   ]
  },
  {
   "cell_type": "code",
   "execution_count": null,
   "metadata": {},
   "outputs": [],
   "source": []
  }
 ],
 "metadata": {
  "kernelspec": {
   "display_name": "Python 3",
   "language": "python",
   "name": "python3"
  },
  "language_info": {
   "codemirror_mode": {
    "name": "ipython",
    "version": 3
   },
   "file_extension": ".py",
   "mimetype": "text/x-python",
   "name": "python",
   "nbconvert_exporter": "python",
   "pygments_lexer": "ipython3",
   "version": "3.7.3"
  }
 },
 "nbformat": 4,
 "nbformat_minor": 2
}
