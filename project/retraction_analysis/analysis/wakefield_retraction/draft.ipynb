{
 "cells": [
  {
   "cell_type": "code",
   "execution_count": null,
   "metadata": {},
   "outputs": [],
   "source": [
    "regex = r\"(\\;\\;)\"\n",
    "    matches = re.finditer(regex, x, re.MULTILINE)\n",
    "    match = None\n",
    "    for matchNum, match in enumerate(matches, start=1):\n",
    "        pass\n",
    "    if match != None:\n",
    "        x = x[:match.span()[0]] + \"\" + x[match.span()[1]:]\n",
    "    return x\n",
    "\n",
    "    extra_txt_span = (len(x),len(x))\n",
    "    for i in range(len(x),-1,-1):\n",
    "        if(x[i])\n",
    "            extra_txt_span[0] = i"
   ]
  },
  {
   "cell_type": "code",
   "execution_count": null,
   "metadata": {},
   "outputs": [],
   "source": [
    "regex = r\"(\\w{1})\\-\\s(\\w{1})\"\n",
    "matches = re.finditer(regex, x, re.MULTILINE)\n",
    "    match = None\n",
    "    for matchNum, match in enumerate(matches, start=1):"
   ]
  },
  {
   "cell_type": "code",
   "execution_count": 3,
   "metadata": {},
   "outputs": [
    {
     "data": {
      "text/plain": [
       "'More recently, measlesmumps-rubella (MMR) vaccine was portrayed as associated with infla atory bowel disease, Crohn’s disease, and autism in news reports, triggered by articles in British journals in 1997 and early 1998.19–21 Multiple subsequent analyses pointed out the logical and biological flaws in these assertions and failed to find any such association.5–6,16,22–26 \\n'"
      ]
     },
     "execution_count": 3,
     "metadata": {},
     "output_type": "execute_result"
    }
   ],
   "source": [
    "import re\n",
    "x = \"\"\"More recently, measles- mumps-rubella (MMR) vaccine was portrayed as associated with infla atory bowel disease, Crohn’s dis- ease, and autism in news reports, triggered by articles in British jour- nals in 1997 and early 1998.19–21 Multiple subsequent analyses point- ed out the logical and biological flaws in these assertions and failed to find any such association.5–6,16,22–26 \n",
    "\"\"\"\n",
    "re.sub(r\"(\\w{1})\\-\\s(\\w{1})\", r\"\\1\\2\", x)\n"
   ]
  },
  {
   "cell_type": "code",
   "execution_count": null,
   "metadata": {},
   "outputs": [],
   "source": [
    "# Get values from external services\n",
    "with open(\"csv/cits_in_coci.csv\", mode='r') as csv_file:\n",
    "    csv_reader = csv.DictReader(csv_file)\n",
    "    list_dois = [row[\"doi\"] for row in csv_reader]\n",
    "\n",
    "coci_meta_items = coci_metadata(list_dois,retracted_doi)\n",
    "write_list([v for k,v in coci_meta_items.items()], \"coci_cits.csv\", header= False)"
   ]
  },
  {
   "cell_type": "code",
   "execution_count": null,
   "metadata": {},
   "outputs": [],
   "source": [
    "#GET ISSNs\n",
    "citing_sources = coci_call(\"metadata\",[k for k in COCI_CITS_DICT],[\"source_title\",\"source_id\"])"
   ]
  },
  {
   "cell_type": "code",
   "execution_count": null,
   "metadata": {},
   "outputs": [],
   "source": [
    "#add dois to the sources\n",
    "dict_sources = defaultdict(list)\n",
    "with open(coci_cits, mode='r') as csv_file:\n",
    "    csv_reader = csv.DictReader(csv_file)\n",
    "    for row in csv_reader:\n",
    "        dict_sources[(row[\"creation\"][0:4],row[\"source_title\"],row[\"source_id\"])].append(row[\"citing\"])"
   ]
  },
  {
   "cell_type": "code",
   "execution_count": null,
   "metadata": {},
   "outputs": [],
   "source": [
    "final = []\n",
    "with open(coci_sources, mode='r') as csv_file:\n",
    "    csv_reader = csv.DictReader(csv_file)\n",
    "    for row in csv_reader:\n",
    "        new_row = row\n",
    "        new_row[\"doi\"] = \"\"\n",
    "        a_key = (row[\"date\"],row[\"source_title\"],row[\"source_id\"])\n",
    "        if a_key in dict_sources:\n",
    "            new_row[\"doi\"] =  \"[[;;]]\".join(dict_sources[a_key])\n",
    "        final.append(new_row)"
   ]
  },
  {
   "cell_type": "code",
   "execution_count": null,
   "metadata": {},
   "outputs": [],
   "source": [
    "write_list(final, \"coci_sources_extended.csv\", header= False)"
   ]
  }
 ],
 "metadata": {
  "kernelspec": {
   "display_name": "Python 3",
   "language": "python",
   "name": "python3"
  },
  "language_info": {
   "codemirror_mode": {
    "name": "ipython",
    "version": 3
   },
   "file_extension": ".py",
   "mimetype": "text/x-python",
   "name": "python",
   "nbconvert_exporter": "python",
   "pygments_lexer": "ipython3",
   "version": "3.7.3"
  }
 },
 "nbformat": 4,
 "nbformat_minor": 2
}
