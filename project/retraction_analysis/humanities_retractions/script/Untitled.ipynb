{
 "cells": [
  {
   "cell_type": "code",
   "execution_count": null,
   "metadata": {},
   "outputs": [],
   "source": [
    "\n",
    "\n",
    "Arts and Humanities\n",
    "History and Philosophy of Science\n",
    "Business, Management and Accounting\n",
    "Management of Technology and Innovation\n",
    "Earth and Planetary Sciences\n",
    "Earth and Planetary Sciences (miscellaneous)\n",
    "Earth-Surface Processes\n",
    "Social Sciences\n",
    "Geography, Planning and Development"
   ]
  }
 ],
 "metadata": {
  "kernelspec": {
   "display_name": "Python 3",
   "language": "python",
   "name": "python3"
  },
  "language_info": {
   "codemirror_mode": {
    "name": "ipython",
    "version": 3
   },
   "file_extension": ".py",
   "mimetype": "text/x-python",
   "name": "python",
   "nbconvert_exporter": "python",
   "pygments_lexer": "ipython3",
   "version": "3.8.2"
  }
 },
 "nbformat": 4,
 "nbformat_minor": 4
}
