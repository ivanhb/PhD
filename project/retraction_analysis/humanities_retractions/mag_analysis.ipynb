{
 "cells": [
  {
   "cell_type": "code",
   "execution_count": 28,
   "metadata": {},
   "outputs": [],
   "source": [
    "import pandas as pd\n",
    "import os\n",
    "import csv\n",
    "from collections import defaultdict\n",
    "\n",
    "df_mag_cits = pd.read_csv(\"mag_cits_extended.csv\")"
   ]
  },
  {
   "cell_type": "markdown",
   "metadata": {},
   "source": [
    "## cits by subject"
   ]
  },
  {
   "cell_type": "code",
   "execution_count": 19,
   "metadata": {},
   "outputs": [
    {
     "name": "stderr",
     "output_type": "stream",
     "text": [
      "<ipython-input-19-55f7420bd414>:2: SettingWithCopyWarning: \n",
      "A value is trying to be set on a copy of a slice from a DataFrame.\n",
      "Try using .loc[row_indexer,col_indexer] = value instead\n",
      "\n",
      "See the caveats in the documentation: https://pandas.pydata.org/pandas-docs/stable/user_guide/indexing.html#returning-a-view-versus-a-copy\n",
      "  df_sub_cits[\"subject\"] = df_sub_cits[\"subject\"].apply(lambda x : x.split(\"; \"))\n"
     ]
    }
   ],
   "source": [
    "df_sub_cits = df_mag_cits[[\"subject\",\"mag_num_cits\"]]\n",
    "df_sub_cits[\"subject\"] = df_sub_cits[\"subject\"].apply(lambda x : x.split(\"; \"))"
   ]
  },
  {
   "cell_type": "code",
   "execution_count": 24,
   "metadata": {},
   "outputs": [],
   "source": [
    "dict_sub = defaultdict(int)\n",
    "for row in df_sub_cits.values:\n",
    "    set_sub.update(row[0])\n",
    "    for sub in row[0]:\n",
    "        if sub.startswith(\"(HUM)\"):\n",
    "            dict_sub[sub] += row[1]\n",
    "            "
   ]
  },
  {
   "cell_type": "markdown",
   "metadata": {},
   "source": [
    "## cits by retraction reason"
   ]
  },
  {
   "cell_type": "code",
   "execution_count": 31,
   "metadata": {},
   "outputs": [
    {
     "name": "stderr",
     "output_type": "stream",
     "text": [
      "<ipython-input-31-67175062e894>:2: SettingWithCopyWarning: \n",
      "A value is trying to be set on a copy of a slice from a DataFrame.\n",
      "Try using .loc[row_indexer,col_indexer] = value instead\n",
      "\n",
      "See the caveats in the documentation: https://pandas.pydata.org/pandas-docs/stable/user_guide/indexing.html#returning-a-view-versus-a-copy\n",
      "  df_sub_cits[\"reasons_of_retractions\"] = df_sub_cits[\"reasons_of_retractions\"].apply(lambda x : x.split(\";;\"))\n"
     ]
    }
   ],
   "source": [
    "df_sub_cits = df_mag_cits[[\"reasons_of_retractions\",\"mag_num_cits\"]]\n",
    "df_sub_cits[\"reasons_of_retractions\"] = df_sub_cits[\"reasons_of_retractions\"].apply(lambda x : x.split(\";;\"))"
   ]
  },
  {
   "cell_type": "code",
   "execution_count": 33,
   "metadata": {},
   "outputs": [],
   "source": [
    "dict_reasons = defaultdict(int)\n",
    "for row in df_sub_cits.values:\n",
    "    for reason in row[0]:\n",
    "        dict_reasons[reason] += row[1]"
   ]
  },
  {
   "cell_type": "code",
   "execution_count": null,
   "metadata": {},
   "outputs": [],
   "source": []
  }
 ],
 "metadata": {
  "kernelspec": {
   "display_name": "Python 3",
   "language": "python",
   "name": "python3"
  },
  "language_info": {
   "codemirror_mode": {
    "name": "ipython",
    "version": 3
   },
   "file_extension": ".py",
   "mimetype": "text/x-python",
   "name": "python",
   "nbconvert_exporter": "python",
   "pygments_lexer": "ipython3",
   "version": "3.8.2"
  }
 },
 "nbformat": 4,
 "nbformat_minor": 2
}
