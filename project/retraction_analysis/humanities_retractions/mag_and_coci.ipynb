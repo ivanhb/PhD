{
 "cells": [
  {
   "cell_type": "markdown",
   "metadata": {},
   "source": [
    "## Guideliness\n",
    "\n",
    "Follow these guideliness to get the list of entities which have cited retracted articles.\n",
    "* Run all the (Pre) blocks \n",
    "* Run block (1) to read the list of retracted articles from a CSV dataset\n",
    "* Run block (2) to get the citing entities from MAG\n",
    "* Run block (3) to dump the results of the previous step\n"
   ]
  },
  {
   "cell_type": "code",
   "execution_count": 2,
   "metadata": {},
   "outputs": [],
   "source": [
    "import requests\n",
    "import json\n",
    "import pandas as pd\n",
    "import os\n",
    "import sys\n",
    "import urllib.parse\n",
    "import nltk\n",
    "import string"
   ]
  },
  {
   "cell_type": "markdown",
   "metadata": {},
   "source": [
    "## MAG configurations"
   ]
  },
  {
   "cell_type": "code",
   "execution_count": 3,
   "metadata": {},
   "outputs": [],
   "source": [
    "## MICROSOFT ACADEMIC GRAPH APROACH\n",
    "#https://www.microsoft.com/en-us/research/project/academic-knowledge/\n",
    "\n",
    "#AUTH\n",
    "USERNAME = \"acdh2020\"\n",
    "PKEY = \"6d1214a4c1f140eeab9606ab63671e83\"\n",
    "SKEY = \"a518ae1f71bd4811a7e9d25e621736e2\"\n",
    "\n",
    "\n",
    "#CALLS\n",
    "MAG_API_QUERY = \"https://api.labs.cognitive.microsoft.com/academic/v1.0/evaluate?expr=\"\n",
    "HEADERS = {\n",
    "    \"Host\": \"api.labs.cognitive.microsoft.com\",\n",
    "    \"Ocp-Apim-Subscription-Key\": PKEY\n",
    "}\n",
    "\n",
    "#NOTE Write the &attributes in sorted order\n",
    "EXPR = {\n",
    "    \"magid\":\"Id=<VAR>\",\n",
    "    \"title\":\"Ti='<VAR>'\",\n",
    "    \"doi\":\"DOI='<VAR>'\",\n",
    "    \"rid\":\"RId=<VAR>\",\n",
    "    \"author\": \"Composite(AA.AuN='<VAR>')\",\n",
    "    \"composite\": \"And(Ti='<VAR_0>',Composite(AA.AuN='<VAR_1>'),Y=<VAR_2>)\",\n",
    "}\n",
    "RESULTS ={\n",
    "    \"title\": (\"&attributes=Ti\",[[\"entities\"]]),\n",
    "    \"magid\": (\"&attributes=Id\",[[\"entities\",\"<ALL>\",\"Id\"]]),\n",
    "    \"meta\": (\"&attributes=DOI,D,DN,AA.DAuN,PB,VFN\",[[\"entities\",\"<ALL>\",\"DOI\"],[\"entities\",\"<ALL>\",\"D\"],[\"entities\",\"<ALL>\",\"DN\"],[\"entities\",0,\"AA\",\"<ALL>\",\"DAuN\"],[\"entities\",\"<ALL>\",\"PB\"],[\"entities\",\"<ALL>\",\"VFN\"]]),\n",
    "#    \"author\": \"&attributes=AA.AuN,AA.AuId,AA.DAfN\",\n",
    "#    \"affiliation\": \"&attributes=AA.DAfN,AW,DOI,F.FN\",\n",
    "    \"citations_num\": (\"&attributes=CC\", [[\"entities\",0,\"CC\"]])\n",
    "}    \n",
    "\n",
    "Pt_mapping = {0:\"Unknown\", 1:\"Journal article\", 2:\"Patent\", 3:\"Conference paper\", 4:\"Book chapter\", 5:\"Book\", 6:\"Book reference entry\", 7:\"Dataset\", 8:\"Repository\"}\n",
    "\n",
    "# TESTING MAG: COMMENT\n",
    "#r = requests.get(MAG_API_QUERY + EXPR[\"doi\"].replace(\"<VAR>\",\"10.1007/s11192-019-03217-6\")+ RESULTS[\"citation_context\"], headers=HEADERS) \n",
    "#json.loads(r.text)\n",
    "#query = f\"expr=And(Ti='{title}')&attributes=Id,DOI,AA.AuN,AA.AuId,Y,RId\"\n",
    "#url_mag = f\"https://api.labs.cognitive.microsoft.com/academic/v1.0/evaluate?{query}\""
   ]
  },
  {
   "cell_type": "markdown",
   "metadata": {},
   "source": [
    "## COCI and MAG methods"
   ]
  },
  {
   "cell_type": "code",
   "execution_count": 23,
   "metadata": {},
   "outputs": [],
   "source": [
    "##https://opencitations.net/index/coci/api/v1/citations/10.1002/adfm.201505328\n",
    "LOG_CALLS = []\n",
    "def get_results(req_json, attr):\n",
    "    if \"REQUEST_ERROR\" in req_json:\n",
    "        return [\"REQUEST_ERROR\"]\n",
    "    if len(attr) == 1:\n",
    "        try:\n",
    "            if attr[0] == \"<ALL>\":\n",
    "                return req_json\n",
    "            else:\n",
    "                return req_json[attr[0]]\n",
    "        except:\n",
    "            return None\n",
    "    else:\n",
    "        if attr[0] == \"<ALL>\":\n",
    "            l_results = []\n",
    "            for a in req_json:\n",
    "                l_results.append(get_results(a,attr[1:]))\n",
    "            return l_results\n",
    "        else:\n",
    "            return get_results(req_json[attr[0]],attr[1:])\n",
    "\n",
    "def call_mag(q_val, expr = \"doi\", results_type = \"citations\"):\n",
    "    \n",
    "    # returns a list of results in json format. E.G. [{},{},{}...]\n",
    "    # the list might contain also the value REQUEST_ERROR\n",
    "    def recursive_call(req_call, offset_num=0, res = []):\n",
    "        try:\n",
    "            get_call = req_call+ \"&count=10&offset=\"+str(offset_num*10)\n",
    "            r = requests.get(get_call, headers=HEADERS) \n",
    "            r_json = json.loads(r.text)\n",
    "            \n",
    "            if len(r_json.keys()) == 0:\n",
    "                return res\n",
    "            \n",
    "            if \"entities\" in r_json: \n",
    "                if len(r_json[\"entities\"]) == 0:\n",
    "                    return res\n",
    "            \n",
    "            res += [r_json]\n",
    "            return recursive_call(req_call,offset_num+1, res)\n",
    "        \n",
    "        except:\n",
    "            res += [\"REQUEST_ERROR\"]\n",
    "            return res\n",
    "        \n",
    "    results = None\n",
    "    if expr != \"\":\n",
    "        q_results_att = \"\"\n",
    "        if results_type != None:\n",
    "            q_results_att = RESULTS[results_type][0]\n",
    "        \n",
    "        req_call = MAG_API_QUERY\n",
    "        if isinstance(q_val, list):\n",
    "            expressions = EXPR[expr]\n",
    "            for v_index,a_q_val in enumerate(q_val):\n",
    "                expressions = expressions.replace(\"<VAR_\"+str(v_index)+\">\",str(a_q_val))\n",
    "            req_call += expressions\n",
    "        else:\n",
    "            req_call += EXPR[expr].replace(\"<VAR>\",str(q_val))\n",
    "        \n",
    "        req_call += q_results_att\n",
    "        LOG_CALLS.append(req_call)\n",
    "        r_json_list = recursive_call(req_call)\n",
    "        \n",
    "        # Define the keys in the results object\n",
    "        keys_att = RESULTS[results_type][0].replace(\"&attributes=\",\"\").split(\",\")\n",
    "        results = {}\n",
    "        for k in keys_att:\n",
    "            results[k] = []\n",
    "        \n",
    "        # Populate the results object \n",
    "        if results_type != None:\n",
    "            for r_json in r_json_list:\n",
    "                for index,att_result in enumerate(RESULTS[results_type][1]): \n",
    "                    results[keys_att[index]] += get_results(r_json, att_result)\n",
    "        else:\n",
    "            return {\"value\":r_json_list}\n",
    "        \n",
    "    return results\n",
    "\n",
    "def call_coci_citaions(doi):\n",
    "    res = \"unknown\"\n",
    "    if doi != \"\":\n",
    "        req_call = \"https://opencitations.net/index/coci/api/v1/citations/\"+doi\n",
    "        try:\n",
    "            r = requests.get(req_call) \n",
    "            r_json = json.loads(r.text)\n",
    "            res = get_results(r_json, [\"<ALL>\",\"citing\"])\n",
    "        except:\n",
    "            pass\n",
    "    return res\n",
    "\n",
    "def call_coci_metadata(doi):\n",
    "    res = \"unknown\"\n",
    "    if doi != \"\":\n",
    "        req_call = \"https://opencitations.net/index/coci/api/v1/metadata/\"+doi\n",
    "        try:\n",
    "            r = requests.get(req_call) \n",
    "            r_json = json.loads(r.text)\n",
    "            res = get_results(r_json, [0])\n",
    "        except:\n",
    "            pass\n",
    "    return res"
   ]
  },
  {
   "cell_type": "markdown",
   "metadata": {},
   "source": [
    "## 1) Read all the items from the csv"
   ]
  },
  {
   "cell_type": "code",
   "execution_count": null,
   "metadata": {},
   "outputs": [],
   "source": [
    "import csv\n",
    "items_l = []\n",
    "with open('retracted_items.csv', mode='r') as file:     \n",
    "    csvFile = csv.reader(file)   \n",
    "    header = next(csvFile)\n",
    "    for row in csvFile:\n",
    "        a_dict = dict()\n",
    "        for index,h in enumerate(header):\n",
    "            a_dict[h] = row[index]\n",
    "        items_l.append(a_dict)"
   ]
  },
  {
   "cell_type": "markdown",
   "metadata": {},
   "source": [
    "## 2) Get citations from MAG"
   ]
  },
  {
   "cell_type": "code",
   "execution_count": null,
   "metadata": {},
   "outputs": [],
   "source": [
    "STARTING_INDEX = 0\n",
    "for index,row in enumerate(items_l[STARTING_INDEX:]):\n",
    "    print(\"Progress: \"+str(STARTING_INDEX + index), end=\"\\r\", flush=True)\n",
    "    ids = None\n",
    "    \n",
    "    # Check if there is a DOI value\n",
    "    if row[\"doi\"] != \"\":\n",
    "        res = call_mag(row[\"doi\"].upper(), expr = \"doi\", results_type=\"magid\")\n",
    "        ids = res[\"Id\"]\n",
    "    # In case no DOI found we query MAG using Title + Authors + Year of publication\n",
    "    else:\n",
    "        try: \n",
    "            title = urllib.parse.quote(row[\"title\"].lower().translate(str.maketrans('', '', string.punctuation)))\n",
    "            author = urllib.parse.quote(row[\"authors\"].lower().replace(\";;\",\", \").translate(str.maketrans('', '', string.punctuation)))\n",
    "            year = row[\"date\"][6:] \n",
    "            res = call_mag([title,author,year],expr = \"composite\",results_type=\"magid\")\n",
    "            ids = res[\"Id\"]\n",
    "        except:\n",
    "            # if any error occur when searching for the retracted entity -> we label the values an \"unavailable\"\n",
    "            row[\"mag_id\"] = \"unavailable\"      \n",
    "            row[\"mag_citing_entities\"] = \"unavailable\"    \n",
    "            row[\"mag_num_cits\"] = \"unavailable\"\n",
    "            continue\n",
    "            \n",
    "    # For each MAGID we get its citing entities (i.e. MAGIDs) \n",
    "    if ids != None:\n",
    "        if isinstance(ids,list):\n",
    "            ids = [str(t) for t in ids]\n",
    "            row[\"mag_id\"] = \";;\".join(ids)\n",
    "        else:\n",
    "            row[\"mag_id\"] = str(ids)\n",
    "            ids = [ids]\n",
    "            \n",
    "        set_results = set()\n",
    "        for an_id in ids: \n",
    "            res = call_mag(an_id, expr = \"rid\", results_type=\"magid\")\n",
    "            if res[\"Id\"] != None:\n",
    "                set_results = set_results.union(set(res[\"Id\"]))\n",
    "            \n",
    "        row[\"mag_num_cits\"] = len(set_results)\n",
    "        if len(set_results) > 0:\n",
    "            row[\"mag_citing_entities\"] = \";;\".join([str(a) for a in set_results])\n",
    "        else:\n",
    "            row[\"mag_citing_entities\"] = \"\"\n",
    "    continue\n",
    "        \n",
    "    # In this case no MAGID found for the retracted article\n",
    "    row[\"mag_id\"] = \"unavailable\"      \n",
    "    row[\"mag_citing_entities\"] = \"unavailable\"    \n",
    "    row[\"mag_num_cits\"] = \"unavailable\""
   ]
  },
  {
   "cell_type": "markdown",
   "metadata": {},
   "source": [
    "## 3) Dump the results of (2)"
   ]
  },
  {
   "cell_type": "code",
   "execution_count": null,
   "metadata": {},
   "outputs": [],
   "source": [
    "df_items = pd.DataFrame(items_l)\n",
    "df_items.to_csv('mag_cits.csv',index=False) "
   ]
  },
  {
   "cell_type": "markdown",
   "metadata": {},
   "source": [
    "## 4) Collect the citing entities metadata "
   ]
  },
  {
   "cell_type": "code",
   "execution_count": null,
   "metadata": {},
   "outputs": [],
   "source": [
    "l_mag_citing = []\n",
    "df_mag = pd.read_csv('mag_cits.csv')\n",
    "df_mag = df_mag[[\"mag_id\",\"mag_citing_entities\",\"date\",\"retraction_date\"]]\n",
    "df_mag = df_mag[df_mag.mag_id.notnull()]\n",
    "df_mag = df_mag[df_mag.mag_citing_entities.notnull()]\n",
    "df_mag[\"mag_citing_entities\"] = df_mag[\"mag_citing_entities\"].apply(lambda x : str(x).split(\";;\"))\n",
    "df_mag[\"date\"] = df_mag[\"date\"].apply(lambda x : str(x)[6:])\n",
    "df_mag[\"retraction_date\"] = df_mag[\"retraction_date\"].apply(lambda x : \";; \".join([a[6:] for a in str(x).split(\";; \")]))"
   ]
  },
  {
   "cell_type": "code",
   "execution_count": null,
   "metadata": {},
   "outputs": [],
   "source": [
    "EXCLUDE = \"2151119690\"\n",
    "STARTING_INDEX = 0\n",
    "for index,row in enumerate(df_mag.values[STARTING_INDEX:]):\n",
    "    print(\"Progress: \"+str(STARTING_INDEX + index + 1)+ \" out of \"+str(len(df_mag.values)), end=\"\\r\", flush=True)\n",
    "    if row[0] == EXCLUDE:\n",
    "        continue\n",
    "    for citing_magid in row[1]:\n",
    "        res = call_mag(citing_magid,expr = \"magid\",results_type=\"meta\")\n",
    "        res[\"DOI\"] = res[\"DOI\"][0] if len(res[\"DOI\"]) > 0 else \"\" \n",
    "        res[\"citing_doi\"] = res.pop('DOI')\n",
    "        res[\"D\"] = res[\"D\"][0] if len(res[\"D\"]) > 0 else \"\" \n",
    "        res[\"citing_publication_date\"] = res.pop('D')\n",
    "        res[\"DN\"] = res[\"DN\"][0] if len(res[\"DN\"]) > 0 else \"\"\n",
    "        res[\"citing_title\"] = res.pop('DN')\n",
    "        res[\"AA.DAuN\"] = \" ;; \".join(res[\"AA.DAuN\"]) if len(res[\"AA.DAuN\"]) > 0 else \"\"\n",
    "        res[\"citing_author\"] = res.pop('AA.DAuN')\n",
    "        #res[\"Pt\"] = Pt_mapping[int(res[\"Pt\"][0])] if len(res[\"Pt\"]) > 0 else \"\" \n",
    "        #res[\"citing_publication_type\"] = res.pop('Pt')\n",
    "        res[\"VFN\"] = res[\"VFN\"][0] if len(res[\"VFN\"]) > 0 else \"\" \n",
    "        res[\"citing_venue\"] = res.pop('VFN')\n",
    "        res[\"PB\"] = res[\"PB\"][0] if len(res[\"PB\"]) > 0 else \"\" \n",
    "        res[\"citing_publisher\"] = res.pop('PB')\n",
    "        res[\"cited_magid\"] = row[0]\n",
    "        res[\"cited_publication_year\"] = row[2]\n",
    "        res[\"cited_retraction_year\"] = row[3]\n",
    "        l_mag_citing.append(res)\n",
    "    "
   ]
  },
  {
   "cell_type": "markdown",
   "metadata": {},
   "source": [
    "## 5) Dump the results of (3)"
   ]
  },
  {
   "cell_type": "code",
   "execution_count": null,
   "metadata": {},
   "outputs": [],
   "source": [
    "df_items = pd.DataFrame(l_mag_citing)\n",
    "df_items = df_items.to_csv('mag_cits_meta.csv',index=False) "
   ]
  },
  {
   "cell_type": "markdown",
   "metadata": {},
   "source": [
    "## 6) Get citations from COCI"
   ]
  },
  {
   "cell_type": "code",
   "execution_count": 11,
   "metadata": {},
   "outputs": [],
   "source": [
    "df_items = pd.read_csv('mag_cits.csv')\n",
    "df_items = df_items[[\"title\",\"doi\",\"date\",\"authors\",\"mag_id\",\"date\",\"retraction_date\"]]\n",
    "df_items = df_items[df_items.doi.notnull()]"
   ]
  },
  {
   "cell_type": "code",
   "execution_count": 12,
   "metadata": {},
   "outputs": [
    {
     "name": "stdout",
     "output_type": "stream",
     "text": [
      "Progress: 264 out of 264\r"
     ]
    }
   ],
   "source": [
    "l_coci_citing = []\n",
    "for index,row in enumerate(df_items.values):\n",
    "    print(\"Progress: \"+str(index + 1)+ \" out of \"+str(len(df_items.values)), end=\"\\r\", flush=True)\n",
    "    res = call_coci_citaions(row[1])\n",
    "    l_coci_citing.append(\n",
    "        {\n",
    "            \"cited_title\": row[0],\n",
    "            \"cited_doi\": row[1],\n",
    "            \"cited_publication_date\": row[2],\n",
    "            \"cited_author\": row[3],\n",
    "            \"cited_mag_id\": row[4],\n",
    "            \"cited_publication_year\": row[5],\n",
    "            \"cited_retraction_year\": row[6],\n",
    "            \"coci_citing_entities\": \";; \".join(res),\n",
    "            \"coci_num_citations\": len(res) if isinstance(res,list) else None \n",
    "        }\n",
    "    )"
   ]
  },
  {
   "cell_type": "markdown",
   "metadata": {},
   "source": [
    "### -> Dump the results"
   ]
  },
  {
   "cell_type": "code",
   "execution_count": 13,
   "metadata": {},
   "outputs": [],
   "source": [
    "df_coci = pd.DataFrame(l_coci_citing)\n",
    "df_coci.to_csv('coci_cits.csv',index=False) "
   ]
  },
  {
   "cell_type": "markdown",
   "metadata": {},
   "source": [
    "## 8) Compare COCI with MAG and collect citing entities metadata"
   ]
  },
  {
   "cell_type": "code",
   "execution_count": 14,
   "metadata": {},
   "outputs": [],
   "source": [
    "df_mag_cits = pd.read_csv('mag_cits_meta.csv')\n",
    "df_mag_cits = df_mag_cits[df_mag_cits.citing_doi.notnull()][\"citing_doi\"]\n",
    "mag_citing_doi = set([a_doi.lower() for a_doi in list(df_mag_cits)])\n",
    "df_coci_cits = pd.read_csv('coci_cits.csv')\n",
    "df_coci_cits = df_coci_cits[df_coci_cits.coci_citing_entities.notnull()]"
   ]
  },
  {
   "cell_type": "code",
   "execution_count": null,
   "metadata": {},
   "outputs": [],
   "source": [
    "total = 0\n",
    "not_in_mag = []\n",
    "coci_dois = set()\n",
    "errors = []\n",
    "for index,row in enumerate(df_coci_cits.values):\n",
    "    citing_dois = row[7].split(\";; \")\n",
    "    total += len(citing_dois)\n",
    "    print(\"Progress: \"+str(index + 1)+ \" out of \"+str(len(df_coci_cits.values))+\" (total citations elaborated = \"+str(total)+\")\", end=\"\\r\", flush=True)\n",
    "    for a_doi in citing_dois:\n",
    "        if a_doi.lower() not in mag_citing_doi:\n",
    "            try:\n",
    "                print(\"get metadata from coci of: \"+str(a_doi))\n",
    "                res = call_coci_metadata(a_doi)\n",
    "                not_in_mag.append(\n",
    "                    {\n",
    "                        \"citing_doi\": a_doi,\n",
    "                        \"citing_title\": res[\"title\"] if res[\"title\"] else \"\",\n",
    "                        \"citing_author\": res[\"author\"],\n",
    "                        \"citing_publication_year\": res[\"year\"],\n",
    "                        \"cited_doi\": row[1],\n",
    "                        \"cited_publication_year\": row[5],\n",
    "                        \"cited_retraction_year\": row[6]\n",
    "                    }\n",
    "                )\n",
    "            except:\n",
    "                print(\"Error with DOI: \"+str(a_doi))\n",
    "                errors.append(a_doi)"
   ]
  },
  {
   "cell_type": "markdown",
   "metadata": {},
   "source": [
    "### -> Dump the results"
   ]
  },
  {
   "cell_type": "code",
   "execution_count": 27,
   "metadata": {},
   "outputs": [],
   "source": [
    "df_coci_not_in_mag = pd.DataFrame(not_in_mag)\n",
    "df_coci_not_in_mag.to_csv('coci_cits_meta(not_in_mag)_errors.csv',index=False) "
   ]
  },
  {
   "cell_type": "markdown",
   "metadata": {},
   "source": [
    "## --> Make a comparison"
   ]
  },
  {
   "cell_type": "code",
   "execution_count": 29,
   "metadata": {},
   "outputs": [],
   "source": [
    "#citing_doi\tciting_publication_date\tciting_title\tciting_author\tciting_venue\tciting_publisher\tcited_magid\tcited_publication_year\tcited_retraction_year\n",
    "df_mag_cits_meta = pd.read_csv('mag_cits_meta.csv')\n",
    "#citing_doi\tciting_title\tciting_author\tciting_publication_year\tcited_doi\tcited_publication_year\tcited_retraction_year\n",
    "df_coci_cits_meta = pd.read_csv('coci_cits_meta(not_in_mag).csv')"
   ]
  },
  {
   "cell_type": "code",
   "execution_count": 52,
   "metadata": {},
   "outputs": [
    {
     "name": "stdout",
     "output_type": "stream",
     "text": [
      "MAG cits:  816 \n",
      "COCI cits:  417\n",
      "list of:  816\n",
      "0.8333333333333334 0.8\n",
      "Redistribution Preferences And Low Socioeconomic Status {'Low', 'and', 'Preferences', 'Status', 'Socioeconomic', 'Redistribution'} {'Low', 'Preferences', 'Status', 'Socioeconomic', 'Redistribution'}\n",
      "0.875 0.8\n",
      "A Smart Audio On Demand Application On Android Systems {'Smart', 'Demand', 'A', 'on', 'Systems', 'Android', 'Audio', 'Application'} {'Smart', 'Demand', 'A', 'Systems', 'Android', 'Audio', 'Application'}\n"
     ]
    }
   ],
   "source": [
    "print(\"MAG cits: \", len(df_mag_cits_meta),\"\\nCOCI cits: \", len(df_coci_cits_meta)) \n",
    "s_compare = set()\n",
    "mag_title = list(df_mag_cits_meta[\"citing_title\"])\n",
    "mag_title = [set(t.split(\" \")) for t in mag_title]\n",
    "print(\"list of: \",len(mag_title))\n",
    "\n",
    "PERCENTAGE = 0.8\n",
    "for title in mag_title:\n",
    "    for row in df_coci_cits_meta.values:\n",
    "        if not pd.isna(row[1]):\n",
    "            len_coci_title = len(row[1])\n",
    "            len_mag_title = len(title)\n",
    "            int_set = set(row[1].split(\" \")).intersection(title)\n",
    "            if len(int_set)/min(len_coci_title,len_mag_title) >= PERCENTAGE:\n",
    "                print(row[1],title,int_set)\n",
    "                break"
   ]
  },
  {
   "cell_type": "markdown",
   "metadata": {},
   "source": [
    "## DRAFT"
   ]
  },
  {
   "cell_type": "code",
   "execution_count": null,
   "metadata": {},
   "outputs": [],
   "source": [
    "title = urllib.parse.quote(\"'Killing the Dead' in Surmanci: About the Local Sources of “the War” in Bosnia\".lower())\n",
    "author = urllib.parse.quote(\"Max Bax\".lower())\n",
    "call_mag([title,author,1996],expr = \"composite\",results_type=\"magid\")"
   ]
  },
  {
   "cell_type": "code",
   "execution_count": null,
   "metadata": {},
   "outputs": [],
   "source": [
    "# COCI: 10.1007/S11192-019-03217-6\n",
    "# Fabio: 10.1016/J.WEBSEM.2012.08.001 \n",
    "# 10.1207/s15326934crj1801_10\n",
    "\n",
    "call_mag(\"10.1007/s11059-012-0120-6\".upper(),expr = \"doi\",results_type=\"magid\")\n",
    "#call_mag(2343320592,expr = \"magid\",results_type=\"title\")"
   ]
  },
  {
   "cell_type": "code",
   "execution_count": null,
   "metadata": {},
   "outputs": [],
   "source": [
    "#2130836170\n",
    "call_mag(\"2130836170\",expr = \"magid\",results_type=\"meta\")"
   ]
  },
  {
   "cell_type": "code",
   "execution_count": null,
   "metadata": {},
   "outputs": [],
   "source": [
    "title = urllib.parse.quote(\"Must the Relation of Substantial Composition Be a Mode William of Ockham’s Answers\".lower().translate(str.maketrans('', '', string.punctuation)))\n",
    "author = urllib.parse.quote(\"Magali Roques\".lower().replace(\";;\",\", \").translate(str.maketrans('', '', string.punctuation)))\n",
    "year = \"2018\"\n",
    "call_mag([title,author,year],expr = \"composite\",results_type=\"magid\")"
   ]
  },
  {
   "cell_type": "code",
   "execution_count": null,
   "metadata": {},
   "outputs": [],
   "source": []
  }
 ],
 "metadata": {
  "kernelspec": {
   "display_name": "Python 3",
   "language": "python",
   "name": "python3"
  }
 },
 "nbformat": 4,
 "nbformat_minor": 2
}
