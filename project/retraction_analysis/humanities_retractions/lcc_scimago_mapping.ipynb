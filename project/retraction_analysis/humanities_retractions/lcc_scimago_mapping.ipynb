{
 "cells": [
  {
   "cell_type": "code",
   "execution_count": 8,
   "metadata": {},
   "outputs": [],
   "source": [
    "import requests\n",
    "import json\n",
    "import pandas as pd\n",
    "import os\n",
    "import sys\n",
    "import urllib.parse\n",
    "import nltk\n",
    "import string\n",
    "import copy\n",
    "import re\n",
    "import numpy as np\n",
    "from collections import defaultdict"
   ]
  },
  {
   "cell_type": "code",
   "execution_count": 50,
   "metadata": {},
   "outputs": [],
   "source": [
    "#1. Consider only the alphabetic part of the LCC code\n",
    "def lcc_to_scimago_area_category(lcc_code):\n",
    "    alphabetic_code = re.findall('[a-zA-Z]+', lcc_code)\n",
    "    if len(alphabetic_code) == 0:\n",
    "        print(\"Error: invalid LCC code \"+lcc_code+\": doesn't start with alphabetic characters\")\n",
    "\n",
    "    alphabetic_code = alphabetic_code[0].upper()\n",
    "    query_df = lcc_lookup_df.loc[lcc_lookup_df['lcc_code'] == alphabetic_code]\n",
    "    lcc_subject = None\n",
    "    if len(query_df) > 0:\n",
    "        lcc_subject = query_df[\"lcc_subject\"].values[0]\n",
    "    else:\n",
    "        return (\"\", \"\")\n",
    "        #print(\"Error: invalid LCC code \"+lcc_code+\": not found\")\n",
    "\n",
    "    area = \"\"\n",
    "    category = \"\"\n",
    "    #2. Checks whether the value of the LCC subject is also a Scimago subject area\n",
    "    query_df = scimago_lookup_df.loc[scimago_lookup_df['area'].str.lower() == lcc_subject.lower()]\n",
    "    if len(query_df) > 0:\n",
    "        area = query_df[\"area\"].values[0]\n",
    "        category = area + \" (miscellaneous)\"\n",
    "\n",
    "    #3. Checks whether the value of the LCC subject is also a Scimago subject category\n",
    "    # some category names might be included in more than one area -> We take into consideration all the alternativies\n",
    "    else:\n",
    "        query_df = scimago_lookup_df.loc[scimago_lookup_df['category'].str.lower() == lcc_subject.lower()]\n",
    "        if len(query_df) > 0:\n",
    "            area = \"\"\n",
    "            category = \"\"\n",
    "            for a_index in range(0,len(query_df[\"area\"].values)):\n",
    "                area = area + query_df[\"area\"].values[a_index] +\";;\"\n",
    "                category = category + query_df[\"category\"].values[a_index] +\";;\"\n",
    "            area = area[:-2]\n",
    "            category = category[:-2]\n",
    "\n",
    "    return (area, category)"
   ]
  },
  {
   "cell_type": "code",
   "execution_count": 51,
   "metadata": {},
   "outputs": [],
   "source": [
    "lcc_lookup_df = pd.read_csv(\"script/data/lcc_lookup.csv\")\n",
    "scimago_lookup_df = pd.read_csv(\"script/data/scimago_lookup.csv\")\n",
    "df_all_cits_inp1 = pd.read_csv('annotation/all_cits(normalized).csv')\n",
    "\n",
    "l_rows = []\n",
    "#cited_magid\tcited_doi\tcited_ref_hints(author)\tcited_retraction_year\tcited_publication_year\tciting_doi\tciting_title\tciting_author\tciting_venue\tvenue_id\tvenue_type\tvenue_area\tvenue_category\tciting_publisher\tciting_publication_year\tsource\tperiod\tfulltext\tretracted\tnotes\n",
    "for k, row in df_all_cits_inp1.iterrows():\n",
    "    venue_id = str(row[\"venue_id\"]).lower()\n",
    "    if venue_id.startswith(\"isbn\"):\n",
    "        if \"lcc\" in venue_id:\n",
    "            lcc_code = venue_id.split(\"lcc:\")[1].strip()\n",
    "            scimago_res = lcc_to_scimago_area_category(lcc_code)\n",
    "            row[\"venue_area\"] = scimago_res[0]\n",
    "            row[\"venue_category\"] = scimago_res[1]\n",
    "    l_rows.append(row)"
   ]
  },
  {
   "cell_type": "code",
   "execution_count": 52,
   "metadata": {},
   "outputs": [],
   "source": [
    "pd.DataFrame(l_rows).to_csv('annotation/all_cits(lcc_to_scimago).csv',index=False)"
   ]
  },
  {
   "cell_type": "code",
   "execution_count": 55,
   "metadata": {},
   "outputs": [],
   "source": [
    "df_all_cits = pd.read_csv('annotation/all_cits.csv')"
   ]
  },
  {
   "cell_type": "code",
   "execution_count": 64,
   "metadata": {},
   "outputs": [],
   "source": [
    "area_dict = defaultdict(int)\n",
    "for k, row in df_all_cits.iterrows():\n",
    "    a = str(row[\"venue_area\"])\n",
    "    for a_part in a.split(\";;\"):\n",
    "        a_part = a_part.lower().strip()\n",
    "        area_dict[a_part] += 1"
   ]
  },
  {
   "cell_type": "code",
   "execution_count": 67,
   "metadata": {},
   "outputs": [
    {
     "data": {
      "text/plain": [
       "defaultdict(int,\n",
       "            {'arts and humanities': 161,\n",
       "             'medicine': 259,\n",
       "             'social sciences': 183,\n",
       "             'psychology': 167,\n",
       "             'nan': 113,\n",
       "             'mathematics': 15,\n",
       "             'engineering': 37,\n",
       "             'nursing': 26,\n",
       "             'biochemistry, genetics and molecular biology': 16,\n",
       "             'computer science': 23,\n",
       "             'business, management and accounting': 55,\n",
       "             'multidisciplinary': 11,\n",
       "             'chemical engineering': 5,\n",
       "             'chemistry': 3,\n",
       "             'energy': 14,\n",
       "             'neuroscience': 24,\n",
       "             'earth and planetary sciences': 36,\n",
       "             'environmental science': 25,\n",
       "             'economics, econometrics and finance': 22,\n",
       "             '': 18,\n",
       "             'geography, planning and development': 2,\n",
       "             'pharmacology, toxicology and pharmaceutics': 6,\n",
       "             'materials science': 8,\n",
       "             'decision sciences': 4,\n",
       "             'agricultural and biological sciences': 20,\n",
       "             'physics and astronomy': 6,\n",
       "             'health professions': 3,\n",
       "             'veterinary': 4,\n",
       "             'medicine\\nnursing': 1,\n",
       "             'dentistry': 1,\n",
       "             'geology': 1,\n",
       "             'immunology and microbiology': 1})"
      ]
     },
     "execution_count": 67,
     "metadata": {},
     "output_type": "execute_result"
    }
   ],
   "source": [
    "area_dict"
   ]
  },
  {
   "cell_type": "code",
   "execution_count": 68,
   "metadata": {},
   "outputs": [
    {
     "name": "stdout",
     "output_type": "stream",
     "text": [
      "arts and humanities 161\n",
      "medicine 259\n",
      "social sciences 183\n",
      "psychology 167\n",
      "nan 113\n",
      "mathematics 15\n",
      "engineering 37\n",
      "nursing 26\n",
      "biochemistry, genetics and molecular biology 16\n",
      "computer science 23\n",
      "business, management and accounting 55\n",
      "multidisciplinary 11\n",
      "chemical engineering 5\n",
      "chemistry 3\n",
      "energy 14\n",
      "neuroscience 24\n",
      "earth and planetary sciences 36\n",
      "environmental science 25\n",
      "economics, econometrics and finance 22\n",
      " 18\n",
      "geography, planning and development 2\n",
      "pharmacology, toxicology and pharmaceutics 6\n",
      "materials science 8\n",
      "decision sciences 4\n",
      "agricultural and biological sciences 20\n",
      "physics and astronomy 6\n",
      "health professions 3\n",
      "veterinary 4\n",
      "medicine\n",
      "nursing 1\n",
      "dentistry 1\n",
      "geology 1\n",
      "immunology and microbiology 1\n"
     ]
    }
   ],
   "source": [
    "for k, val in area_dict.items():\n",
    "    print(k,val)"
   ]
  },
  {
   "cell_type": "code",
   "execution_count": null,
   "metadata": {},
   "outputs": [],
   "source": []
  }
 ],
 "metadata": {
  "kernelspec": {
   "display_name": "Python 3",
   "language": "python",
   "name": "python3"
  },
  "language_info": {
   "codemirror_mode": {
    "name": "ipython",
    "version": 3
   },
   "file_extension": ".py",
   "mimetype": "text/x-python",
   "name": "python",
   "nbconvert_exporter": "python",
   "pygments_lexer": "ipython3",
   "version": "3.8.2"
  }
 },
 "nbformat": 4,
 "nbformat_minor": 4
}
