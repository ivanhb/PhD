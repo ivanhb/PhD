{
 "cells": [
  {
   "cell_type": "markdown",
   "metadata": {},
   "source": [
    "## Import and configuration variables"
   ]
  },
  {
   "cell_type": "code",
   "execution_count": 70,
   "metadata": {},
   "outputs": [],
   "source": [
    "import csv\n",
    "import re\n",
    "import requests\n",
    "import os\n",
    "from datetime import datetime\n",
    "\n",
    "csv_arts = \"../data/retracted_watch/arts.csv\"\n",
    "csv_history = \"../data/retracted_watch/history.csv\"\n",
    "csv_religion = \"../data/retracted_watch/religion.csv\"\n",
    "csv_architecture = \"../data/retracted_watch/architecture.csv\"\n",
    "csv_cartography = \"../data/retracted_watch/cartography.csv\"\n",
    "csv_journalism = \"../data/retracted_watch/journalism.csv\"\n",
    "csv_philosophy = \"../data/retracted_watch/philosophy.csv\""
   ]
  },
  {
   "cell_type": "markdown",
   "metadata": {},
   "source": [
    "## Usefull functions"
   ]
  },
  {
   "cell_type": "code",
   "execution_count": 23,
   "metadata": {},
   "outputs": [],
   "source": [
    "def write_list(l,file_path, header= True):\n",
    "    f = open(file_path,\"w+\")\n",
    "    initial_pos = 0\n",
    "    \n",
    "    #header\n",
    "    if header:\n",
    "        initial_pos = 1\n",
    "        str_header = ''\n",
    "        for k_header in l[0].keys():\n",
    "            str_header = str_header + str(k_header) + \",\"\n",
    "        f.write(str_header[:-1]+\"\\n\")\n",
    "        \n",
    "    #content\n",
    "    for l_index in range(initial_pos,len(l)):\n",
    "        str_row = ''\n",
    "        for k_att in l[l_index]:\n",
    "            str_row = str_row + '\"'+str(l[l_index][k_att]) +'\"'+','\n",
    "        f.write(str_row[:-1]+\"\\n\")"
   ]
  },
  {
   "cell_type": "markdown",
   "metadata": {},
   "source": [
    "## The main program  \n",
    "\n",
    "The elaboratio steps to follow are: \n",
    "1. Get the COCI metadata for each retracted article in the csv\n",
    "2. Write the results on a csv file \n",
    "3. Select the subset of elements from the list of all retracted items which have been found in COCI\n",
    "4. Write the results of (3) on a csv file\n",
    "\n",
    "**Note:** I used http://www.convertcsv.com/html-table-to-csv.htm to convert the HTML table into a csv file.\n"
   ]
  },
  {
   "cell_type": "code",
   "execution_count": 34,
   "metadata": {},
   "outputs": [],
   "source": [
    "domain = \"philosophy\"\n",
    "csv_to_analyse = csv_philosophy\n",
    "coci_res_file = \"../data/coci/retracted_\"+domain+\"_(coci_metadata).csv\"\n",
    "coci_res_file_min1cit = \"../data/coci/retracted_\"+domain+\"_(min1cit).csv\""
   ]
  },
  {
   "cell_type": "code",
   "execution_count": 35,
   "metadata": {
    "scrolled": true
   },
   "outputs": [],
   "source": [
    "#(1) Get the COCI metadata for each retracted article in the csv\n",
    "items = []\n",
    "with open(csv_to_analyse) as a_file:\n",
    "    csv_reader = csv.reader(a_file, delimiter=',')\n",
    "    line_count = 0\n",
    "    for row in csv_reader:\n",
    "        \n",
    "        regex = r\"(10\\..*)$\"\n",
    "\n",
    "        test_str = row[4]\n",
    "\n",
    "        matches = re.finditer(regex, test_str, re.MULTILINE)\n",
    "\n",
    "        for matchNum, match in enumerate(matches, start=1):\n",
    "            if match:\n",
    "                doi = match.group()\n",
    "                r = requests.get('https://opencitations.net/index/coci/api/v1/metadata/'+str(doi))\n",
    "                if len(r.json()) > 0:                \n",
    "                    items.append(r.json()[0])"
   ]
  },
  {
   "cell_type": "code",
   "execution_count": 36,
   "metadata": {},
   "outputs": [],
   "source": [
    "#(2) Write the results on a csv file\n",
    "write_list(items,coci_res_file)"
   ]
  },
  {
   "cell_type": "code",
   "execution_count": 37,
   "metadata": {},
   "outputs": [],
   "source": [
    "# (3) Select the subset of elements from the list of all retracted items which have been found in COCI\n",
    "\n",
    "#Arts articles in COCI \n",
    "dois_min1cit = [\"10.1200/jco.2013.49.1845\",\"10.1177/0146167207312465\",\"10.1016/j.shpsa.2011.02.001\",\"10.1007/1-4020-3001-0_4\",\"10.4103/0019-5545.105519\",\"10.1007/s11245-007-9015-y\",\"10.1007/s11059-008-4013-7\",\"10.1111/j.0066-7372.2003.00023.x\",\"10.1111/j.1477-4658.2009.00603.x\",\"10.1515/9783110204544.6.277\",\"10.2143/etl.75.4.504765\",\"10.2143/rtpm.67.1.520\",\"10.1017/ccol0521822424.012\",\"10.1017/ccol0521650186.018\"]\n",
    "\n",
    "subset_items = []\n",
    "with open(csv_to_analyse, 'r') as csvFile:\n",
    "    reader = csv.reader(csvFile)\n",
    "    for row in reader:\n",
    "        regex = r\"(10\\..*)$\"\n",
    "        matches = re.finditer(regex, row[4], re.MULTILINE)\n",
    "        for matchNum, match in enumerate(matches, start=1):\n",
    "            if match:\n",
    "                doi = match.group()\n",
    "                if doi.lower() in dois_min1cit:\n",
    "                    rowdict = {}\n",
    "                    for j in range(0,len(row)):\n",
    "                        rowdict[j] = row[j]\n",
    "                    subset_items.append(rowdict)\n",
    "\n",
    "#order them according to the results\n",
    "sorted_list = []\n",
    "for doi in dois_min1cit:\n",
    "    for item in subset_items:\n",
    "        if doi.lower() in item[4].lower():\n",
    "            sorted_list.append(item)"
   ]
  },
  {
   "cell_type": "code",
   "execution_count": 38,
   "metadata": {},
   "outputs": [],
   "source": [
    "#(4) Write the results of (3) on a csv file\n",
    "write_list(sorted_list,coci_res_file_min1cit, False)"
   ]
  },
  {
   "attachments": {},
   "cell_type": "markdown",
   "metadata": {},
   "source": [
    "### COCI results: \n",
    "* **Arts DOIs with at least 1 citation:** ```dois_min1cit = [\"10.1016/j.jesp.2011.02.006\",\"10.1111/j.1365-2702.2010.03368.x\",\"10.1109/esiat.2010.5568967\",\"10.1109/iccsit.2010.5564505\",\"10.1007/s11059-013-0186-9\",\"10.1353/cdr.2011.0017\",\"10.1109/iccsit.2010.5564489\",\"10.1109/edt.2010.5496628\"] ```\n",
    "* **Religion DOIs with at least 1 citation:** ```[\"10.1016/j.leaqua.2011.02.002\",\"10.1016/j.leaqua.2011.02.002\",\"10.1016/j.leaqua.2011.02.002\",\"10.1016/j.cub.2015.09.056\",\"10.1080/014198700329114\",\"10.4103/0019-5545.105526\",\"10.1111/j.1365-2702.2008.02690.x\",\"10.1371/journal.pone.0180487\",\"10.1093/jis/etp023\",\"10.1111/j.1466-7657.2011.00900.x\",\"10.4103/0019-5545.105519\",\"10.2143/etl.75.4.504765\",\"10.2143/rtpm.67.1.520\",\"10.1017/ccol0521822424.012\",\"10.1017/ccol0521650186.018\"]```\n",
    "* **Architecture DOIs with at least 1 citation:** ```[\"10.1155/2015/954651\",\"10.1016/j.sysarc.2010.08.005\",\"10.1016/j.sbspro.2011.05.014\",\"10.1109/opee.2010.5507971\"] ```\n",
    "* **Cartography DOIs with at least 1 citation:** ```[\"10.4113/jom.2010.1074\",\"10.4236/ars.2016.51001\",\"10.1186/s40201-014-0153-z\",\"10.4113/jom.2010.1128\",\"10.4113/jom.2009.1045\"] ```\n",
    "* **Philosophy DOIs with at least 1 citation:**\n",
    " ```[\"10.1200/jco.2013.49.1845\",\"10.1177/0146167207312465\",\"10.1016/j.shpsa.2011.02.001\",\"10.1007/1-4020-3001-0_4\",\"10.4103/0019-5545.105519\",\"10.1007/s11245-007-9015-y\",\"10.1007/s11059-008-4013-7\",\"10.1111/j.0066-7372.2003.00023.x\",\"10.1111/j.1477-4658.2009.00603.x\",\"10.1515/9783110204544.6.277\",\"10.2143/etl.75.4.504765\",\"10.2143/rtpm.67.1.520\",\"10.1017/ccol0521822424.012\",\"10.1017/ccol0521650186.018\"] ```"
   ]
  },
  {
   "cell_type": "markdown",
   "metadata": {},
   "source": [
    "## Citations: after and before Retraction\n",
    "Taking the previous results, the main object is to classify the citations into 3 different timeline steps, according to the retraction date: (1) Before (2) Same date (3) After. We consider also the \"Same date\" category, since some of the retracted document or/and the citations don't have a complete date description. e.g: Retracted article date = 2013, and a citation in the same year."
   ]
  },
  {
   "cell_type": "markdown",
   "metadata": {},
   "source": [
    "### Example from the retracted articles in Philosophy\n",
    "**Title:** \"Cancer Drugs In The United States: Justum Pretium—The Just Price\"  \n",
    "**DOI:** 10.1200/jco.2013.49.1845  \n",
    "**Citations number:** 103  \n",
    "**Retraction date:** 10/01/2015 (%m/%d/%Y)   \n",
    "**Retraction reasons:** +Criminal Proceedings+Falsification/Fabrication of Data+Investigation by Company/Institution+Investigation by Third Party+Misconduct - Official Investigation/Finding"
   ]
  },
  {
   "cell_type": "code",
   "execution_count": 76,
   "metadata": {},
   "outputs": [],
   "source": [
    "all_cits = {}\n",
    "\n",
    "##Return Citations after the retraction date filter=creation:%3E2015-10-01\n",
    "doi = \"10.1200/jco.2013.49.1845\"\n",
    "retraction_date = \"2015-10-01\"\n",
    "\n",
    "#with filter\n",
    "#r = requests.get('https://opencitations.net/index/coci/api/v1/citations/'+str(doi)+\"?filter=creation:\"+str(cat[cat_k][\"operation\"])+str(retraction_date))\n",
    "#without filter\n",
    "r = requests.get('https://opencitations.net/index/coci/api/v1/citations/'+str(doi))    \n",
    "if len(r.json()) > 0:      \n",
    "    for elem in r.json():\n",
    "        pattern = '%Y-%m-%d'\n",
    "        if len(elem[\"creation\"]) < 10:\n",
    "            pattern = '%Y-%m'\n",
    "        if len(elem[\"creation\"]) < 7:\n",
    "            pattern = '%Y'\n",
    "        \n",
    "        all_cits[elem[\"citing\"]] = datetime.strptime(elem[\"creation\"],pattern)"
   ]
  },
  {
   "cell_type": "code",
   "execution_count": 84,
   "metadata": {},
   "outputs": [],
   "source": [
    "# Create a list of tuples sorted by index 1 i.e. value field     \n",
    "all_cits = dict(sorted(all_cits.items() ,  key=lambda x: x[1]))"
   ]
  },
  {
   "cell_type": "code",
   "execution_count": 105,
   "metadata": {},
   "outputs": [],
   "source": [
    "xy_points = []\n",
    "index = {}\n",
    "for k,v in all_cits.items():\n",
    "    xy_points.append({\"x\":v.year, \"y\": k})\n",
    "    \n",
    "    index_k = str(v.year)+\"-\"+str(v.month)\n",
    "    if index_k not in index:\n",
    "        index[index_k] = 0\n",
    "    index[index_k] += 1\n",
    "\n",
    "xy_points_date_groups = []\n",
    "for k,v in index.items():\n",
    "    xy_points_date_groups.append({\"x\":k, \"y\": v})"
   ]
  },
  {
   "cell_type": "code",
   "execution_count": 106,
   "metadata": {},
   "outputs": [],
   "source": [
    "write_list(xy_points, \"../data/coci/coci_citations_ex1doi.csv\")\n",
    "write_list(xy_points_date_groups, \"../data/coci/coci_citations_ex1doi_temp.csv\")"
   ]
  },
  {
   "cell_type": "code",
   "execution_count": null,
   "metadata": {},
   "outputs": [],
   "source": []
  },
  {
   "cell_type": "code",
   "execution_count": null,
   "metadata": {},
   "outputs": [],
   "source": []
  }
 ],
 "metadata": {
  "kernelspec": {
   "display_name": "Python 3",
   "language": "python",
   "name": "python3"
  },
  "language_info": {
   "codemirror_mode": {
    "name": "ipython",
    "version": 3
   },
   "file_extension": ".py",
   "mimetype": "text/x-python",
   "name": "python",
   "nbconvert_exporter": "python",
   "pygments_lexer": "ipython3",
   "version": "3.7.3"
  }
 },
 "nbformat": 4,
 "nbformat_minor": 2
}
