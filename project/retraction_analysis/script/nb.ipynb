{
 "cells": [
  {
   "cell_type": "markdown",
   "metadata": {},
   "source": [
    "## Import and configuration variables"
   ]
  },
  {
   "cell_type": "code",
   "execution_count": 72,
   "metadata": {},
   "outputs": [],
   "source": [
    "import csv\n",
    "import re\n",
    "import requests\n",
    "import os\n",
    "\n",
    "csv_arts = \"../data/retracted_arts.csv\"\n",
    "csv_history = \"../data/retracted_history.csv\""
   ]
  },
  {
   "cell_type": "markdown",
   "metadata": {},
   "source": [
    "## Usefull functions"
   ]
  },
  {
   "cell_type": "code",
   "execution_count": 131,
   "metadata": {},
   "outputs": [],
   "source": [
    "def write_list(l,file_path, header= True):\n",
    "    f = open(file_path,\"w+\")\n",
    "    initial_pos = 0\n",
    "    \n",
    "    #header\n",
    "    if header:\n",
    "        initial_pos = 1\n",
    "        str_header = ''\n",
    "        for k_header in l[0].keys():\n",
    "            str_header = str_header + str(k_header) + \",\"\n",
    "        f.write(str_header[:-1]+\"\\n\")\n",
    "        \n",
    "    #content\n",
    "    for l_index in range(initial_pos,len(l)):\n",
    "        str_row = ''\n",
    "        for k_att in l[l_index]:\n",
    "            str_row = str_row + '\"'+str(l[l_index][k_att]) +'\"'+','\n",
    "        f.write(str_row[:-1]+\"\\n\")"
   ]
  },
  {
   "cell_type": "markdown",
   "metadata": {},
   "source": [
    "## The main program  \n",
    "\n",
    "The elaboratio steps to follow are: \n",
    "1. Get the COCI metadata for each retracted article in the csv\n",
    "2. Write the results on a csv file \n",
    "3. Select the subset of elements from the list of all retracted items which have been found in COCI\n",
    "4. Write the results of (3) on a csv file"
   ]
  },
  {
   "cell_type": "code",
   "execution_count": 74,
   "metadata": {
    "scrolled": true
   },
   "outputs": [],
   "source": [
    "#(1) Get the COCI metadata for each retracted article in the csv\n",
    "items = []\n",
    "with open(csv_history) as a_file:\n",
    "    csv_reader = csv.reader(a_file, delimiter=',')\n",
    "    line_count = 0\n",
    "    for row in csv_reader:\n",
    "        \n",
    "        regex = r\"(10\\..*)$\"\n",
    "\n",
    "        test_str = row[4]\n",
    "\n",
    "        matches = re.finditer(regex, test_str, re.MULTILINE)\n",
    "\n",
    "        for matchNum, match in enumerate(matches, start=1):\n",
    "            if match:\n",
    "                doi = match.group()\n",
    "                r = requests.get('https://opencitations.net/index/coci/api/v1/metadata/'+str(doi))\n",
    "                items.append(r.json()[0])"
   ]
  },
  {
   "cell_type": "code",
   "execution_count": 75,
   "metadata": {},
   "outputs": [],
   "source": [
    "#(2) Write the results on a csv file\n",
    "write_list(items,\"../data/retracted_history_(coci_metadata).csv\")"
   ]
  },
  {
   "cell_type": "code",
   "execution_count": 136,
   "metadata": {},
   "outputs": [],
   "source": [
    "# (3) Select the subset of elements from the list of all retracted items which have been found in COCI\n",
    "\n",
    "#History articles in COCI (according to the results obtained in step 1)\n",
    "history_dois = [\"10.1080/014198700329114\",\"10.1111/j.1466-8238.2009.00501.x\",\"10.3171/2010.9.focus10200\",\"10.1016/j.shpsa.2011.02.001\",\"10.1080/17430437.2014.919258\",\"10.1093/jis/etp023\",\"10.3171/2012.6.focus12120\",\"10.1093/jogss/ogw014\",\"10.1177/0267323115589265\",\"10.1007/1-4020-3001-0_4\",\"10.2105/ajph.2015.302623\",\"10.1186/1744-859x-13-11\",\"10.1080/13825571003588429\",\"10.2143/etl.75.4.504765\",\"10.2143/rtpm.67.1.520\",\"10.1260/136943306779369509\",\"10.1017/ccol0521822424.012\",\"10.1017/ccol0521650186.018\"]\n",
    "#Arts articles in COCI \n",
    "arts_dois = [\"10.1016/j.jesp.2011.02.006\",\"10.1111/j.1365-2702.2010.03368.x\",\"10.1109/esiat.2010.5568967\",\"10.1109/iccsit.2010.5564505\",\"10.1007/s11059-013-0186-9\",\"10.1353/cdr.2011.0017\",\"10.1109/iccsit.2010.5564489\",\"10.1109/edt.2010.5496628\"]\n",
    "\n",
    "subset_items = []\n",
    "with open(csv_arts, 'r') as csvFile:\n",
    "    reader = csv.reader(csvFile)\n",
    "    for row in reader:\n",
    "        regex = r\"(10\\..*)$\"\n",
    "        matches = re.finditer(regex, row[4], re.MULTILINE)\n",
    "        for matchNum, match in enumerate(matches, start=1):\n",
    "            if match:\n",
    "                doi = match.group()\n",
    "                if doi.lower() in arts_dois:\n",
    "                    rowdict = {}\n",
    "                    for j in range(0,len(row)):\n",
    "                        rowdict[j] = row[j]\n",
    "                    subset_items.append(rowdict)\n",
    "\n",
    "#order them according to the results\n",
    "sorted_list = []\n",
    "for doi in arts_dois:\n",
    "    for item in subset_items:\n",
    "        if doi.lower() in item[4].lower():\n",
    "            sorted_list.append(item)"
   ]
  },
  {
   "cell_type": "code",
   "execution_count": 137,
   "metadata": {},
   "outputs": [],
   "source": [
    "#(4) Write the results of (3) on a csv file\n",
    "write_list(sorted_list,\"../data/retracted_arts_(temp).csv\", False)"
   ]
  }
 ],
 "metadata": {
  "kernelspec": {
   "display_name": "Python 3",
   "language": "python",
   "name": "python3"
  },
  "language_info": {
   "codemirror_mode": {
    "name": "ipython",
    "version": 3
   },
   "file_extension": ".py",
   "mimetype": "text/x-python",
   "name": "python",
   "nbconvert_exporter": "python",
   "pygments_lexer": "ipython3",
   "version": "3.7.3"
  }
 },
 "nbformat": 4,
 "nbformat_minor": 2
}
