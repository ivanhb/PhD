{
 "cells": [
  {
   "cell_type": "code",
   "execution_count": 2,
   "metadata": {
    "scrolled": true
   },
   "outputs": [],
   "source": [
    "import chart\n",
    "import scan\n",
    "import csv\n",
    "import urllib.request\n",
    "import json\n",
    "import matplotlib.pyplot as plt\n",
    "import os\n",
    "from datetime import datetime"
   ]
  },
  {
   "cell_type": "code",
   "execution_count": 3,
   "metadata": {},
   "outputs": [],
   "source": [
    "#Log files path\n",
    "csvpath = '../../../data/coci-iswc-log/filtered/'"
   ]
  },
  {
   "cell_type": "markdown",
   "metadata": {},
   "source": [
    "# First Analysis "
   ]
  },
  {
   "cell_type": "code",
   "execution_count": 82,
   "metadata": {},
   "outputs": [],
   "source": [
    "GROUP1 = 'all'\n",
    "GROUP2 = 'search/browse'\n",
    "GROUP3 = 'rest-api'\n",
    "GROUP4 = 'sparql'\n",
    "GROUP5 = 'others'\n",
    "alldata = {GROUP1:{'x':[],'y':[]}, GROUP2:{'x':[],'y':[]}, GROUP3:{'x':[],'y':[]}, GROUP4:{'x':[],'y':[]}, GROUP5:{'x':[],'y':[]}}\n",
    "ready_csv_path = '../data/alldata.csv'"
   ]
  },
  {
   "cell_type": "code",
   "execution_count": 83,
   "metadata": {},
   "outputs": [],
   "source": [
    "##################\n",
    "#Process from log "
   ]
  },
  {
   "cell_type": "code",
   "execution_count": 84,
   "metadata": {},
   "outputs": [
    {
     "name": "stdout",
     "output_type": "stream",
     "text": [
      "SCANNING ../../../data/coci-iswc-log/filtered/oc-2018-10.csv\n",
      "SCANNING ../../../data/coci-iswc-log/filtered/oc-2018-11.csv\n",
      "SCANNING ../../../data/coci-iswc-log/filtered/oc-2018-07.csv\n",
      "SCANNING ../../../data/coci-iswc-log/filtered/oc-2018-12.csv\n",
      "SCANNING ../../../data/coci-iswc-log/filtered/oc-2019-01.csv\n",
      "SCANNING ../../../data/coci-iswc-log/filtered/oc-2019-02.csv\n",
      "SCANNING ../../../data/coci-iswc-log/filtered/oc-2018-08.csv\n",
      "SCANNING ../../../data/coci-iswc-log/filtered/oc-2018-09.csv\n"
     ]
    }
   ],
   "source": [
    "alldata[GROUP1] = scan.buildData(['.*(/coci)'], ['REQUEST_URI'], csvpath)"
   ]
  },
  {
   "cell_type": "code",
   "execution_count": 85,
   "metadata": {},
   "outputs": [
    {
     "name": "stdout",
     "output_type": "stream",
     "text": [
      "SCANNING ../../../data/coci-iswc-log/filtered/oc-2018-10.csv\n",
      "SCANNING ../../../data/coci-iswc-log/filtered/oc-2018-11.csv\n",
      "SCANNING ../../../data/coci-iswc-log/filtered/oc-2018-07.csv\n",
      "SCANNING ../../../data/coci-iswc-log/filtered/oc-2018-12.csv\n",
      "SCANNING ../../../data/coci-iswc-log/filtered/oc-2019-01.csv\n",
      "SCANNING ../../../data/coci-iswc-log/filtered/oc-2019-02.csv\n",
      "SCANNING ../../../data/coci-iswc-log/filtered/oc-2018-08.csv\n",
      "SCANNING ../../../data/coci-iswc-log/filtered/oc-2018-09.csv\n"
     ]
    }
   ],
   "source": [
    "alldata[GROUP2] = scan.buildData(['.*(coci/search|coci/browse)'], ['REQUEST_URI'], csvpath)"
   ]
  },
  {
   "cell_type": "code",
   "execution_count": 86,
   "metadata": {},
   "outputs": [
    {
     "name": "stdout",
     "output_type": "stream",
     "text": [
      "SCANNING ../../../data/coci-iswc-log/filtered/oc-2018-10.csv\n",
      "SCANNING ../../../data/coci-iswc-log/filtered/oc-2018-11.csv\n",
      "SCANNING ../../../data/coci-iswc-log/filtered/oc-2018-07.csv\n",
      "SCANNING ../../../data/coci-iswc-log/filtered/oc-2018-12.csv\n",
      "SCANNING ../../../data/coci-iswc-log/filtered/oc-2019-01.csv\n",
      "SCANNING ../../../data/coci-iswc-log/filtered/oc-2019-02.csv\n",
      "SCANNING ../../../data/coci-iswc-log/filtered/oc-2018-08.csv\n",
      "SCANNING ../../../data/coci-iswc-log/filtered/oc-2018-09.csv\n"
     ]
    }
   ],
   "source": [
    "alldata[GROUP3] = scan.buildData(['.*(coci/api)'], ['REQUEST_URI'], csvpath)"
   ]
  },
  {
   "cell_type": "code",
   "execution_count": 87,
   "metadata": {},
   "outputs": [
    {
     "name": "stdout",
     "output_type": "stream",
     "text": [
      "SCANNING ../../../data/coci-iswc-log/filtered/oc-2018-10.csv\n",
      "SCANNING ../../../data/coci-iswc-log/filtered/oc-2018-11.csv\n",
      "SCANNING ../../../data/coci-iswc-log/filtered/oc-2018-07.csv\n",
      "SCANNING ../../../data/coci-iswc-log/filtered/oc-2018-12.csv\n",
      "SCANNING ../../../data/coci-iswc-log/filtered/oc-2019-01.csv\n",
      "SCANNING ../../../data/coci-iswc-log/filtered/oc-2019-02.csv\n",
      "SCANNING ../../../data/coci-iswc-log/filtered/oc-2018-08.csv\n",
      "SCANNING ../../../data/coci-iswc-log/filtered/oc-2018-09.csv\n"
     ]
    }
   ],
   "source": [
    "#alldata[GROUP4] = scan.buildData(['^((?!coci/search|coci/browse|coci/api).)*$','.*(coci/sparql)'], ['HTTP_REFERER','REQUEST_URI'], csvpath)\n",
    "#alldata[GROUP4] = scan.buildData(['.*(coci/sparql)','.*(coci/sparql)'], ['HTTP_REFERER','REQUEST_URI'], csvpath)\n",
    "alldata[GROUP4] = scan.buildData(['.*(coci/sparql)'], ['REQUEST_URI'], csvpath)\n",
    "\n"
   ]
  },
  {
   "cell_type": "code",
   "execution_count": 98,
   "metadata": {},
   "outputs": [
    {
     "name": "stdout",
     "output_type": "stream",
     "text": [
      "/index/coci\n",
      "OrderedDict([('TIME', '2018-07-04 07:19:27,842'), ('REMOTE_ADDR', '94.177.183.223'), ('HTTP_USER_AGENT', 'Java/1.6.0_04'), ('HTTP_REFERER', 'None'), ('HTTP_HOST', 'opencitations.net'), ('REQUEST_URI', '/index/coci')])\n"
     ]
    }
   ],
   "source": [
    "for elem in alldata[GROUP1]['value'][0]:\n",
    "    if 'coci/sparql' not in elem['REQUEST_URI']:\n",
    "        if 'coci/search' not in elem['REQUEST_URI']:\n",
    "            if 'coci/browse' not in elem['REQUEST_URI']:\n",
    "                if 'coci/api' not in elem['REQUEST_URI']:\n",
    "                    print(elem['REQUEST_URI'])\n",
    "                    print(elem)\n",
    "                    break"
   ]
  },
  {
   "cell_type": "code",
   "execution_count": 103,
   "metadata": {},
   "outputs": [],
   "source": [
    "##MY TEST SESSION PART-1\n",
    "myindex = {}\n",
    "myindex_referer = {}\n",
    "def funindex(k_ref,x):\n",
    "    if k_ref not in myindex:\n",
    "        myindex[k_ref] = 0\n",
    "    myindex[k_ref] += 1\n",
    "    \n",
    "    if k_ref not in myindex_referer:\n",
    "        myindex_referer[k_ref] = {}\n",
    "    \n",
    "    if x['REMOTE_ADDR'] not in myindex_referer[k_ref]:\n",
    "        myindex_referer[k_ref][x['REMOTE_ADDR']] = 0\n",
    "\n",
    "    myindex_referer[k_ref][x['REMOTE_ADDR']] += 1\n",
    "    \n",
    "for x in alldata[GROUP4]['value'][4]:\n",
    "    funindex(x['HTTP_REFERER'],x)"
   ]
  },
  {
   "cell_type": "code",
   "execution_count": 104,
   "metadata": {},
   "outputs": [
    {
     "name": "stdout",
     "output_type": "stream",
     "text": [
      "13623\n",
      "13271   :: None  ::  {'220.243.135.195': 1, '173.208.196.202': 1, '223.71.54.151': 1, '85.120.207.226': 1, '220.243.135.233': 1, '66.160.140.181': 1, '35.205.75.42': 1, '137.204.99.249': 1, '35.205.91.112': 1, '1.6.1.26': 1, '134.76.81.36': 2, '64.62.252.163': 1, '61.125.219.35': 1, '137.204.150.13': 6, '126.166.145.202': 1, '93.66.140.224': 9, '193.73.242.1': 2, '47.88.152.89': 1, '195.154.90.35': 4, '62.210.99.22': 4, '52.23.153.193': 1, '94.130.167.121': 1, '176.9.136.185': 1, '23.96.208.137': 1, '54.210.188.114': 1, '34.208.235.9': 1, '54.173.177.183': 2, '178.208.12.19': 1, '178.208.12.11': 1, '51.255.76.77': 4, '18.237.16.250': 3, '212.159.201.120': 1, '195.111.2.2': 1, '18.237.208.104': 1, '54.167.201.242': 1, '35.166.221.154': 1, '65.246.253.106': 1, '194.109.117.211': 10, '94.130.167.103': 1, '18.236.220.237': 1, '216.70.86.237': 12, '137.194.2.123': 1, '94.109.29.73': 1, '137.204.150.12': 768, '72.33.2.115': 2, '195.201.245.126': 1, '64.62.252.176': 2, '216.145.192.133': 1, '34.229.165.223': 2, '200.55.140.181': 5, '207.241.231.58': 1, '195.154.217.154': 1, '86.85.211.79': 1, '66.160.140.180': 1, '137.204.150.15': 45, '160.97.52.135': 1, '54.226.249.203': 1, '35.233.238.102': 1, '54.82.189.10': 1, '88.99.195.221': 1, '178.208.12.12': 1, '178.208.12.15': 1, '107.167.122.77': 4, '174.138.54.70': 2, '107.23.228.206': 1, '148.247.62.2': 1, '149.233.184.63': 1, '35.153.206.108': 1, '54.173.35.129': 1, '220.243.136.185': 1, '137.204.150.19': 10, '137.204.150.14': 33, '129.97.138.124': 1, '147.229.14.206': 1, '88.190.180.7': 12278, '77.136.16.164': 1, '212.47.249.17': 2, '141.135.127.55': 1, '220.243.135.12': 1, '66.160.140.182': 1, '64.62.252.174': 1, '80.101.40.203': 1, '66.160.140.183': 1}\n",
      "124   :: http://opencitations.net/index/coci/sparql  ::  {'137.204.150.16': 2, '93.66.140.224': 1, '1.6.1.26': 11, '80.77.155.89': 1, '137.204.150.13': 5, '192.0.91.47': 2, '192.0.89.192': 2, '192.0.99.54': 2, '126.166.145.202': 1, '193.73.242.1': 1, '212.159.201.120': 1, '195.72.110.104': 1, '193.52.103.22': 1, '98.239.160.129': 1, '82.161.128.103': 1, '193.55.138.15': 1, '66.249.88.48': 1, '193.62.194.243': 1, '129.26.77.17': 1, '37.228.255.67': 1, '85.24.198.4': 1, '65.246.253.106': 1, '137.194.2.123': 6, '94.109.29.73': 1, '85.144.210.151': 1, '200.55.140.181': 2, '75.64.225.6': 1, '92.252.61.236': 1, '66.249.81.86': 1, '80.113.19.114': 1, '137.204.150.12': 40, '137.204.150.15': 1, '160.97.52.135': 1, '93.49.105.172': 1, '38.68.67.196': 2, '137.204.150.19': 3, '131.142.24.196': 1, '88.190.180.7': 13, '77.136.16.164': 1, '141.135.127.55': 1, '89.205.70.194': 1, '80.101.40.203': 5}\n"
     ]
    }
   ],
   "source": [
    "##MY TEST SESSION PART-2\n",
    "allindex_sorted = {}\n",
    "sum_all = 0\n",
    "\n",
    "# Create a list of tuples sorted by index 1 i.e. value field     \n",
    "listofTuples = sorted(myindex.items() , reverse=True, key=lambda x: x[1])\n",
    "\n",
    "for n in listofTuples:\n",
    "        sum_all += n[1]\n",
    "        allindex_sorted[n[0]] = {'value': n[1],'request':myindex_referer[n[0]]}\n",
    "        \n",
    "print(sum_all)\n",
    "limit = 2\n",
    "for kk in allindex_sorted:\n",
    "    print(allindex_sorted[kk]['value'],\"  ::\",kk, \" :: \",  allindex_sorted[kk]['request'])\n",
    "    limit -= 1\n",
    "    if limit == 0:\n",
    "        break"
   ]
  },
  {
   "cell_type": "code",
   "execution_count": 88,
   "metadata": {},
   "outputs": [],
   "source": [
    "#Normalize data\n",
    "alldata[GROUP1]['x'] = [ x.strftime('%m-%Y') for x in alldata[GROUP1]['x'] ]\n",
    "alldata[GROUP2]['x'] = [ x.strftime('%m-%Y') for x in alldata[GROUP2]['x'] ]\n",
    "alldata[GROUP3]['x'] = [ x.strftime('%m-%Y') for x in alldata[GROUP3]['x'] ]\n",
    "alldata[GROUP4]['x'] = [ x.strftime('%m-%Y') for x in alldata[GROUP4]['x'] ]"
   ]
  },
  {
   "cell_type": "code",
   "execution_count": 89,
   "metadata": {},
   "outputs": [],
   "source": [
    "#add last Group\n",
    "alldata[GROUP5] = {}\n",
    "alldata[GROUP5]['x'] = alldata[GROUP2]['x']\n",
    "alldata[GROUP5]['y'] = []\n",
    "for i in range(0,len(alldata[GROUP5]['x'])):\n",
    "    alldata[GROUP5]['y'].append(int(alldata[GROUP1]['y'][i]) - (int(alldata[GROUP2]['y'][i]) + int(alldata[GROUP3]['y'][i]) + int(alldata[GROUP4]['y'][i]) ))"
   ]
  },
  {
   "cell_type": "code",
   "execution_count": 90,
   "metadata": {},
   "outputs": [],
   "source": [
    "scan.genCSV(ready_csv_path,alldata,\"key\",\"date\",\"accesses\")"
   ]
  },
  {
   "cell_type": "code",
   "execution_count": null,
   "metadata": {},
   "outputs": [],
   "source": [
    "########################\n",
    "#Process from csv\n",
    "########################\n",
    "with open(ready_csv_path, newline='') as csvfile:\n",
    "    reader = csv.DictReader(csvfile)\n",
    "    for row in reader:\n",
    "        alldata[row['key']]['x'].append(row['date'])\n",
    "        alldata[row['key']]['y'].append(int(row['accesses']))"
   ]
  },
  {
   "cell_type": "code",
   "execution_count": null,
   "metadata": {},
   "outputs": [],
   "source": [
    "#Now plot the data\n",
    "allplotdata = alldata;\n",
    "if GROUP1 in allplotdata:\n",
    "    allplotdata.pop(GROUP1)\n",
    "#Call the chart builder and draw it\n",
    "my_plt = chart.plotBars(allplotdata,opt = {'width':0.3,'xticks_fontsize':13,'ylabel_fontsize':14,'yticks_fontsize':14,'ylabel': 'Number of accesses', 'bar_val':True,'bar_coi':1000000,'bar_suf':'M','bar_pre':'','color':{'Close in Crossref':'#ff3333'}}, sortit= False, logit= True)\n",
    "my_plt.legend(loc='upper left', shadow=True, fontsize='x-large')\n",
    "my_plt.show()"
   ]
  },
  {
   "cell_type": "code",
   "execution_count": null,
   "metadata": {},
   "outputs": [],
   "source": []
  },
  {
   "cell_type": "markdown",
   "metadata": {},
   "source": [
    "# Second Analysis "
   ]
  },
  {
   "cell_type": "code",
   "execution_count": null,
   "metadata": {},
   "outputs": [],
   "source": [
    "GROUP1 = 'references'\n",
    "GROUP2 = 'citations'\n",
    "GROUP3 = 'citation'\n",
    "GROUP4 = 'metadata'\n",
    "analysis2data = {GROUP1:{'x':[],'y':[]}, GROUP2:{'x':[],'y':[]}, GROUP3:{'x':[],'y':[]}, GROUP4:{'x':[],'y':[]}}\n",
    "ready_csv_path_2 = '../data/restapi.csv'"
   ]
  },
  {
   "cell_type": "code",
   "execution_count": null,
   "metadata": {},
   "outputs": [],
   "source": [
    "##################\n",
    "#Process from log "
   ]
  },
  {
   "cell_type": "code",
   "execution_count": null,
   "metadata": {},
   "outputs": [],
   "source": [
    "analysis2data[GROUP1] = scan.buildData(['.*(coci/api/v1/references/)'], ['REQUEST_URI'], csvpath)"
   ]
  },
  {
   "cell_type": "code",
   "execution_count": null,
   "metadata": {},
   "outputs": [],
   "source": [
    "analysis2data[GROUP2] = scan.buildData(['.*(coci/api/v1/citations/)'], ['REQUEST_URI'], csvpath)"
   ]
  },
  {
   "cell_type": "code",
   "execution_count": null,
   "metadata": {},
   "outputs": [],
   "source": [
    "analysis2data[GROUP3] = scan.buildData(['.*(coci/api/v1/citation/)'], ['REQUEST_URI'], csvpath)"
   ]
  },
  {
   "cell_type": "code",
   "execution_count": null,
   "metadata": {},
   "outputs": [],
   "source": [
    "analysis2data[GROUP4] = scan.buildData(['.*(coci/api/v1/metadata/)'], ['REQUEST_URI'], csvpath)"
   ]
  },
  {
   "cell_type": "code",
   "execution_count": null,
   "metadata": {},
   "outputs": [],
   "source": [
    "#Normalize data\n",
    "analysis2data[GROUP1]['x'] = [ x.strftime('%m-%Y') for x in analysis2data[GROUP1]['x'] ]\n",
    "analysis2data[GROUP2]['x'] = [ x.strftime('%m-%Y') for x in analysis2data[GROUP2]['x'] ]\n",
    "analysis2data[GROUP3]['x'] = [ x.strftime('%m-%Y') for x in analysis2data[GROUP3]['x'] ]\n",
    "analysis2data[GROUP4]['x'] = [ x.strftime('%m-%Y') for x in analysis2data[GROUP4]['x'] ]"
   ]
  },
  {
   "cell_type": "code",
   "execution_count": null,
   "metadata": {},
   "outputs": [],
   "source": [
    "scan.genCSV(ready_csv_path,analysis2data,\"key\",\"date\",\"accesses\")"
   ]
  },
  {
   "cell_type": "code",
   "execution_count": null,
   "metadata": {},
   "outputs": [],
   "source": [
    "########################\n",
    "#Process from csv\n",
    "########################\n",
    "with open(ready_csv_path_2, newline='') as csvfile:\n",
    "    reader = csv.DictReader(csvfile)\n",
    "    for row in reader:\n",
    "        analysis2data[row['key']]['x'].append(row['date'])\n",
    "        analysis2data[row['key']]['y'].append(int(row['accesses']))"
   ]
  },
  {
   "cell_type": "code",
   "execution_count": null,
   "metadata": {},
   "outputs": [],
   "source": [
    "#Now plot the data\n",
    "allplotdata = analysis2data;\n",
    "if 'value' in allplotdata[GROUP1]:\n",
    "    allplotdata[GROUP1].pop('value')\n",
    "if 'value' in allplotdata[GROUP2]: \n",
    "    allplotdata[GROUP2].pop('value')\n",
    "if 'value' in allplotdata[GROUP3]:\n",
    "    allplotdata[GROUP3].pop('value')\n",
    "if 'value' in allplotdata[GROUP4]:\n",
    "    allplotdata[GROUP4].pop('value')\n",
    "\n",
    "#allplotdata.pop(GROUP1);\n",
    "#Call the chart builder and draw it\n",
    "#This image is too big to big plotted Here\n",
    "my_plt = chart.plotBars(allplotdata,opt = {'width':0.3,'xticks_fontsize':13,'ylabel_fontsize':14,'yticks_fontsize':14,'ylabel': 'Number of accesses', 'bar_val':True,'bar_coi':1000000,'bar_suf':'M','bar_pre':''}, sortit= False, logit= True)\n",
    "my_plt.legend(loc='upper left', shadow=True, fontsize='x-large')\n",
    "my_plt.show()"
   ]
  },
  {
   "cell_type": "code",
   "execution_count": null,
   "metadata": {},
   "outputs": [],
   "source": []
  }
 ],
 "metadata": {
  "kernelspec": {
   "display_name": "Python 3",
   "language": "python",
   "name": "python3"
  },
  "language_info": {
   "codemirror_mode": {
    "name": "ipython",
    "version": 3
   },
   "file_extension": ".py",
   "mimetype": "text/x-python",
   "name": "python",
   "nbconvert_exporter": "python",
   "pygments_lexer": "ipython3",
   "version": "3.6.5"
  }
 },
 "nbformat": 4,
 "nbformat_minor": 2
}
