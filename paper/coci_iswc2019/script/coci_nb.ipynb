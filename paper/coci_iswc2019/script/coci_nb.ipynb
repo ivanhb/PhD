{
 "cells": [
  {
   "cell_type": "code",
   "execution_count": 2,
   "metadata": {
    "scrolled": true
   },
   "outputs": [],
   "source": [
    "import chart\n",
    "import scan\n",
    "import csv\n",
    "import urllib.request\n",
    "import json\n",
    "import matplotlib.pyplot as plt\n",
    "import os\n",
    "from datetime import datetime"
   ]
  },
  {
   "cell_type": "code",
   "execution_count": 3,
   "metadata": {},
   "outputs": [],
   "source": [
    "#Log files path\n",
    "csvpath = '../../../data/coci-iswc-log/filtered/'"
   ]
  },
  {
   "cell_type": "markdown",
   "metadata": {},
   "source": [
    "# First Analysis \n",
    "An overview of the number of access made to the COCI data through OpenCitations since its release on July 2018. We have classified the accesses type into 4 categories. “search/browse”: all the accesses made to the searching and browsing interfaces of COCI; “rest-api”: the REST-API calls made; ‘sparql’: enclose all the calls made to the sparql-endpoint, these queries might come from the YASGUI editor or could be made directly, bypassing any of the COCI resources; ‘others’: all the calls that did not generate any query on the COCI data, instead a simple browsing of the COCI related pages (e.g. http://opencitations.net/index/coci).  "
   ]
  },
  {
   "cell_type": "code",
   "execution_count": null,
   "metadata": {},
   "outputs": [],
   "source": [
    "#----------------------------------------\n",
    "#INIT (always do this)\n",
    "#----------------------------------------"
   ]
  },
  {
   "cell_type": "code",
   "execution_count": 107,
   "metadata": {},
   "outputs": [],
   "source": [
    "GROUP1 = 'all'\n",
    "GROUP2 = 'search/browse'\n",
    "GROUP3 = 'rest-api'\n",
    "GROUP4 = 'sparql'\n",
    "GROUP5 = 'others'\n",
    "alldata = {GROUP1:{'x':[],'y':[]}, GROUP2:{'x':[],'y':[]}, GROUP3:{'x':[],'y':[]}, GROUP4:{'x':[],'y':[]}, GROUP5:{'x':[],'y':[]}}\n",
    "ready_csv_path = '../data/alldata.csv'"
   ]
  },
  {
   "cell_type": "code",
   "execution_count": 108,
   "metadata": {},
   "outputs": [],
   "source": [
    "#----------------------------------------\n",
    "#Process the log files\n",
    "#----------------------------------------"
   ]
  },
  {
   "cell_type": "code",
   "execution_count": 105,
   "metadata": {
    "collapsed": true
   },
   "outputs": [
    {
     "name": "stdout",
     "output_type": "stream",
     "text": [
      "SCANNING ../../../data/coci-iswc-log/filtered/oc-2018-10.csv\n",
      "SCANNING ../../../data/coci-iswc-log/filtered/oc-2018-11.csv\n",
      "SCANNING ../../../data/coci-iswc-log/filtered/oc-2018-07.csv\n",
      "SCANNING ../../../data/coci-iswc-log/filtered/oc-2018-12.csv\n",
      "SCANNING ../../../data/coci-iswc-log/filtered/oc-2019-01.csv\n",
      "SCANNING ../../../data/coci-iswc-log/filtered/oc-2019-02.csv\n",
      "SCANNING ../../../data/coci-iswc-log/filtered/oc-2018-08.csv\n",
      "SCANNING ../../../data/coci-iswc-log/filtered/oc-2018-09.csv\n"
     ]
    }
   ],
   "source": [
    "alldata[GROUP1] = scan.buildData(['.*(/coci)'], ['REQUEST_URI'], csvpath)"
   ]
  },
  {
   "cell_type": "code",
   "execution_count": 85,
   "metadata": {
    "collapsed": true
   },
   "outputs": [
    {
     "name": "stdout",
     "output_type": "stream",
     "text": [
      "SCANNING ../../../data/coci-iswc-log/filtered/oc-2018-10.csv\n",
      "SCANNING ../../../data/coci-iswc-log/filtered/oc-2018-11.csv\n",
      "SCANNING ../../../data/coci-iswc-log/filtered/oc-2018-07.csv\n",
      "SCANNING ../../../data/coci-iswc-log/filtered/oc-2018-12.csv\n",
      "SCANNING ../../../data/coci-iswc-log/filtered/oc-2019-01.csv\n",
      "SCANNING ../../../data/coci-iswc-log/filtered/oc-2019-02.csv\n",
      "SCANNING ../../../data/coci-iswc-log/filtered/oc-2018-08.csv\n",
      "SCANNING ../../../data/coci-iswc-log/filtered/oc-2018-09.csv\n"
     ]
    }
   ],
   "source": [
    "alldata[GROUP2] = scan.buildData(['.*(coci/search|coci/browse)'], ['REQUEST_URI'], csvpath)"
   ]
  },
  {
   "cell_type": "code",
   "execution_count": 86,
   "metadata": {
    "collapsed": true
   },
   "outputs": [
    {
     "name": "stdout",
     "output_type": "stream",
     "text": [
      "SCANNING ../../../data/coci-iswc-log/filtered/oc-2018-10.csv\n",
      "SCANNING ../../../data/coci-iswc-log/filtered/oc-2018-11.csv\n",
      "SCANNING ../../../data/coci-iswc-log/filtered/oc-2018-07.csv\n",
      "SCANNING ../../../data/coci-iswc-log/filtered/oc-2018-12.csv\n",
      "SCANNING ../../../data/coci-iswc-log/filtered/oc-2019-01.csv\n",
      "SCANNING ../../../data/coci-iswc-log/filtered/oc-2019-02.csv\n",
      "SCANNING ../../../data/coci-iswc-log/filtered/oc-2018-08.csv\n",
      "SCANNING ../../../data/coci-iswc-log/filtered/oc-2018-09.csv\n"
     ]
    }
   ],
   "source": [
    "alldata[GROUP3] = scan.buildData(['.*(coci/api)'], ['REQUEST_URI'], csvpath)"
   ]
  },
  {
   "cell_type": "code",
   "execution_count": 87,
   "metadata": {
    "collapsed": true
   },
   "outputs": [
    {
     "name": "stdout",
     "output_type": "stream",
     "text": [
      "SCANNING ../../../data/coci-iswc-log/filtered/oc-2018-10.csv\n",
      "SCANNING ../../../data/coci-iswc-log/filtered/oc-2018-11.csv\n",
      "SCANNING ../../../data/coci-iswc-log/filtered/oc-2018-07.csv\n",
      "SCANNING ../../../data/coci-iswc-log/filtered/oc-2018-12.csv\n",
      "SCANNING ../../../data/coci-iswc-log/filtered/oc-2019-01.csv\n",
      "SCANNING ../../../data/coci-iswc-log/filtered/oc-2019-02.csv\n",
      "SCANNING ../../../data/coci-iswc-log/filtered/oc-2018-08.csv\n",
      "SCANNING ../../../data/coci-iswc-log/filtered/oc-2018-09.csv\n"
     ]
    }
   ],
   "source": [
    "alldata[GROUP4] = scan.buildData(['.*(coci/sparql)'], ['REQUEST_URI'], csvpath)"
   ]
  },
  {
   "cell_type": "code",
   "execution_count": 88,
   "metadata": {},
   "outputs": [],
   "source": [
    "#Normalize data\n",
    "alldata[GROUP1]['x'] = [ x.strftime('%m-%Y') for x in alldata[GROUP1]['x'] ]\n",
    "alldata[GROUP2]['x'] = [ x.strftime('%m-%Y') for x in alldata[GROUP2]['x'] ]\n",
    "alldata[GROUP3]['x'] = [ x.strftime('%m-%Y') for x in alldata[GROUP3]['x'] ]\n",
    "alldata[GROUP4]['x'] = [ x.strftime('%m-%Y') for x in alldata[GROUP4]['x'] ]"
   ]
  },
  {
   "cell_type": "code",
   "execution_count": 89,
   "metadata": {},
   "outputs": [],
   "source": [
    "#add last Group (Group5)\n",
    "alldata[GROUP5] = {}\n",
    "alldata[GROUP5]['x'] = alldata[GROUP2]['x']\n",
    "alldata[GROUP5]['y'] = []\n",
    "for i in range(0,len(alldata[GROUP5]['x'])):\n",
    "    alldata[GROUP5]['y'].append(int(alldata[GROUP1]['y'][i]) - (int(alldata[GROUP2]['y'][i]) + int(alldata[GROUP3]['y'][i]) + int(alldata[GROUP4]['y'][i]) ))"
   ]
  },
  {
   "cell_type": "code",
   "execution_count": 90,
   "metadata": {},
   "outputs": [],
   "source": [
    "#Generate the CSV file\n",
    "scan.genCSV(ready_csv_path,alldata,\"key\",\"date\",\"accesses\")"
   ]
  },
  {
   "cell_type": "code",
   "execution_count": null,
   "metadata": {},
   "outputs": [],
   "source": [
    "#----------------------------------------\n",
    "#Process from csv\n",
    "#----------------------------------------"
   ]
  },
  {
   "cell_type": "code",
   "execution_count": null,
   "metadata": {},
   "outputs": [],
   "source": [
    "with open(ready_csv_path, newline='') as csvfile:\n",
    "    reader = csv.DictReader(csvfile)\n",
    "    for row in reader:\n",
    "        alldata[row['key']]['x'].append(row['date'])\n",
    "        alldata[row['key']]['y'].append(int(row['accesses']))"
   ]
  },
  {
   "cell_type": "code",
   "execution_count": null,
   "metadata": {},
   "outputs": [],
   "source": [
    "#----------------------------------------\n",
    "#Now plot the data\n",
    "#----------------------------------------\n",
    "allplotdata = alldata;\n",
    "if GROUP1 in allplotdata:\n",
    "    allplotdata.pop(GROUP1)\n",
    "#Call the chart builder and draw it\n",
    "my_plt = chart.plotBars(allplotdata,opt = {'width':0.3,'xticks_fontsize':13,'ylabel_fontsize':14,'yticks_fontsize':14,'ylabel': 'Number of accesses', 'bar_val':True,'bar_coi':1000000,'bar_suf':'M','bar_pre':'','color':{'Close in Crossref':'#ff3333'}}, sortit= False, logit= True)\n",
    "my_plt.legend(loc='upper left', shadow=True, fontsize='x-large')\n",
    "my_plt.show()"
   ]
  },
  {
   "cell_type": "code",
   "execution_count": null,
   "metadata": {},
   "outputs": [],
   "source": [
    "#----------------------------------------\n",
    "#Same chart generated with external program\n",
    "#----------------------------------------"
   ]
  },
  {
   "cell_type": "markdown",
   "metadata": {},
   "source": [
    "![chart_gen](https://ivanhb.github.io/phd/paper/coci_iswc2019/img/chart_gen.png)"
   ]
  },
  {
   "cell_type": "markdown",
   "metadata": {},
   "source": [
    "# Second Analysis "
   ]
  },
  {
   "cell_type": "code",
   "execution_count": null,
   "metadata": {},
   "outputs": [],
   "source": [
    "#----------------------------------------\n",
    "#INIT (always do this)\n",
    "#----------------------------------------"
   ]
  },
  {
   "cell_type": "code",
   "execution_count": null,
   "metadata": {},
   "outputs": [],
   "source": [
    "GROUP1 = 'references'\n",
    "GROUP2 = 'citations'\n",
    "GROUP3 = 'citation'\n",
    "GROUP4 = 'metadata'\n",
    "analysis2data = {GROUP1:{'x':[],'y':[]}, GROUP2:{'x':[],'y':[]}, GROUP3:{'x':[],'y':[]}, GROUP4:{'x':[],'y':[]}}\n",
    "ready_csv_path_2 = '../data/restapi.csv'"
   ]
  },
  {
   "cell_type": "code",
   "execution_count": null,
   "metadata": {},
   "outputs": [],
   "source": [
    "#----------------------------------------\n",
    "#Process the log files\n",
    "#----------------------------------------"
   ]
  },
  {
   "cell_type": "code",
   "execution_count": null,
   "metadata": {},
   "outputs": [],
   "source": [
    "analysis2data[GROUP1] = scan.buildData(['.*(coci/api/v1/references/)'], ['REQUEST_URI'], csvpath)"
   ]
  },
  {
   "cell_type": "code",
   "execution_count": null,
   "metadata": {},
   "outputs": [],
   "source": [
    "analysis2data[GROUP2] = scan.buildData(['.*(coci/api/v1/citations/)'], ['REQUEST_URI'], csvpath)"
   ]
  },
  {
   "cell_type": "code",
   "execution_count": null,
   "metadata": {},
   "outputs": [],
   "source": [
    "analysis2data[GROUP3] = scan.buildData(['.*(coci/api/v1/citation/)'], ['REQUEST_URI'], csvpath)"
   ]
  },
  {
   "cell_type": "code",
   "execution_count": null,
   "metadata": {},
   "outputs": [],
   "source": [
    "analysis2data[GROUP4] = scan.buildData(['.*(coci/api/v1/metadata/)'], ['REQUEST_URI'], csvpath)"
   ]
  },
  {
   "cell_type": "code",
   "execution_count": null,
   "metadata": {},
   "outputs": [],
   "source": [
    "#Normalize data\n",
    "analysis2data[GROUP1]['x'] = [ x.strftime('%m-%Y') for x in analysis2data[GROUP1]['x'] ]\n",
    "analysis2data[GROUP2]['x'] = [ x.strftime('%m-%Y') for x in analysis2data[GROUP2]['x'] ]\n",
    "analysis2data[GROUP3]['x'] = [ x.strftime('%m-%Y') for x in analysis2data[GROUP3]['x'] ]\n",
    "analysis2data[GROUP4]['x'] = [ x.strftime('%m-%Y') for x in analysis2data[GROUP4]['x'] ]"
   ]
  },
  {
   "cell_type": "code",
   "execution_count": null,
   "metadata": {},
   "outputs": [],
   "source": [
    "scan.genCSV(ready_csv_path,analysis2data,\"key\",\"date\",\"accesses\")"
   ]
  },
  {
   "cell_type": "code",
   "execution_count": null,
   "metadata": {},
   "outputs": [],
   "source": [
    "#----------------------------------------\n",
    "#Process from CSV\n",
    "#----------------------------------------"
   ]
  },
  {
   "cell_type": "code",
   "execution_count": null,
   "metadata": {},
   "outputs": [],
   "source": [
    "with open(ready_csv_path_2, newline='') as csvfile:\n",
    "    reader = csv.DictReader(csvfile)\n",
    "    for row in reader:\n",
    "        analysis2data[row['key']]['x'].append(row['date'])\n",
    "        analysis2data[row['key']]['y'].append(int(row['accesses']))"
   ]
  },
  {
   "cell_type": "code",
   "execution_count": null,
   "metadata": {},
   "outputs": [],
   "source": [
    "#----------------------------------------\n",
    "#Now plot the data\n",
    "#----------------------------------------\n",
    "\n",
    "allplotdata = analysis2data;\n",
    "if 'value' in allplotdata[GROUP1]:\n",
    "    allplotdata[GROUP1].pop('value')\n",
    "if 'value' in allplotdata[GROUP2]: \n",
    "    allplotdata[GROUP2].pop('value')\n",
    "if 'value' in allplotdata[GROUP3]:\n",
    "    allplotdata[GROUP3].pop('value')\n",
    "if 'value' in allplotdata[GROUP4]:\n",
    "    allplotdata[GROUP4].pop('value')\n",
    "\n",
    "#allplotdata.pop(GROUP1);\n",
    "#Call the chart builder and draw it\n",
    "#This image is too big to big plotted Here\n",
    "my_plt = chart.plotBars(allplotdata,opt = {'width':0.3,'xticks_fontsize':13,'ylabel_fontsize':14,'yticks_fontsize':14,'ylabel': 'Number of accesses', 'bar_val':True,'bar_coi':1000000,'bar_suf':'M','bar_pre':''}, sortit= False, logit= True)\n",
    "my_plt.legend(loc='upper left', shadow=True, fontsize='x-large')\n",
    "my_plt.show()"
   ]
  },
  {
   "cell_type": "code",
   "execution_count": null,
   "metadata": {},
   "outputs": [],
   "source": [
    "#----------------------------------------\n",
    "#Same chart generated with external program\n",
    "#----------------------------------------"
   ]
  },
  {
   "cell_type": "markdown",
   "metadata": {},
   "source": [
    "![chart_restapi](https://ivanhb.github.io/phd/paper/coci_iswc2019/img/chart_restapi.png)"
   ]
  },
  {
   "cell_type": "code",
   "execution_count": null,
   "metadata": {},
   "outputs": [],
   "source": []
  }
 ],
 "metadata": {
  "kernelspec": {
   "display_name": "Python 3",
   "language": "python",
   "name": "python3"
  },
  "language_info": {
   "codemirror_mode": {
    "name": "ipython",
    "version": 3
   },
   "file_extension": ".py",
   "mimetype": "text/x-python",
   "name": "python",
   "nbconvert_exporter": "python",
   "pygments_lexer": "ipython3",
   "version": "3.7.3"
  }
 },
 "nbformat": 4,
 "nbformat_minor": 2
}
