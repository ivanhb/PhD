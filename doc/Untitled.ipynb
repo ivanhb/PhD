{
 "cells": [
  {
   "cell_type": "code",
   "execution_count": 1,
   "metadata": {},
   "outputs": [],
   "source": [
    "import csv\n",
    "file = open('diary.csv')"
   ]
  },
  {
   "cell_type": "code",
   "execution_count": 3,
   "metadata": {},
   "outputs": [
    {
     "name": "stdout",
     "output_type": "stream",
     "text": [
      "date,url\n",
      "\n",
      "1 February 2019,https://ivanhb.github.io/phd/doc/diary/2019/2/1.html\n",
      "\n",
      "8 February 2019,https://ivanhb.github.io/phd/doc/diary/2019/2/2.html\n",
      "\n",
      "15 February 2019,https://ivanhb.github.io/phd/doc/diary/2019/2/3.html\n"
     ]
    }
   ],
   "source": [
    "for row in file:\n",
    "    print(row)"
   ]
  },
  {
   "cell_type": "code",
   "execution_count": null,
   "metadata": {},
   "outputs": [],
   "source": []
  }
 ],
 "metadata": {
  "kernelspec": {
   "display_name": "Python 3",
   "language": "python",
   "name": "python3"
  },
  "language_info": {
   "codemirror_mode": {
    "name": "ipython",
    "version": 3
   },
   "file_extension": ".py",
   "mimetype": "text/x-python",
   "name": "python",
   "nbconvert_exporter": "python",
   "pygments_lexer": "ipython3",
   "version": "3.6.5"
  }
 },
 "nbformat": 4,
 "nbformat_minor": 2
}
