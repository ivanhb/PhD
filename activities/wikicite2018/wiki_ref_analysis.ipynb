{
 "cells": [
  {
   "cell_type": "code",
   "execution_count": 1,
   "metadata": {},
   "outputs": [],
   "source": [
    "import csv \n",
    "\n",
    "DUMP_PATH = 'data/wikiref/enwiki.tsv'\n",
    "OUTPUT_INDEX = 'index.csv'\n",
    "OUTPUT_FILE = 'cits.csv'\n",
    "TYPES = ['doi']\n",
    "\n",
    "index = {}\n",
    "index_counter = {}\n",
    "output = []\n",
    "\n",
    "#init the output csv\n",
    "#with open(OUTPUT_FILE, 'a', newline='') as f:\n",
    "#    f.write('citing_page_id,citing_id')\n",
    "\n",
    "#init the output csv\n",
    "#with open(OUTPUT_INDEX, 'a', newline='') as f:\n",
    "#    f.write('id,value')\n",
    "    \n",
    "    \n",
    "#write on a csv_path file a given block_txt\n",
    "def write_txtblock_on_csv(csv_path, block_txt):\n",
    "    with open(csv_path, 'a', newline='') as csvfile:\n",
    "        csvfile.write(block_txt)\n",
    "\n",
    "\n",
    "\n",
    "with open(DUMP_PATH,'r') as dump_path:\n",
    "    dump_reader = csv.reader(dump_path, delimiter='\\t')\n",
    "    \n",
    "    counter = 0\n",
    "    for row in dump_reader:\n",
    "        #['page_id', 'page_name', 'revision_id', 'timestamp', 'publication_type', 'publication_id', 'topic', 'open_access', 'open_access_url']\n",
    "        if row[4] in TYPES:\n",
    "\n",
    "            citing_item = row[0]\n",
    "            cited_item = counter\n",
    "            if row[5] not in index:\n",
    "                index[row[5]] = counter \n",
    "                write_txtblock_on_csv(OUTPUT_INDEX, '%s,%s\\n'%(row[5], counter))\n",
    "                index_counter[counter] = 1\n",
    "                counter = counter + 1\n",
    "            else:\n",
    "                cited_item = index[row[5]]\n",
    "                index_counter[index[row[5]]] = index_counter[index[row[5]]] + 1\n",
    "            \n",
    "            write_txtblock_on_csv(OUTPUT_FILE, '%s,%s\\n'%(citing_item, cited_item))\n",
    "            output.append((citing_item,cited_item))\n",
    "            \n",
    "            "
   ]
  },
  {
   "cell_type": "code",
   "execution_count": 6,
   "metadata": {},
   "outputs": [],
   "source": [
    "OUTPUT_PART = 'output_part.csv'\n",
    "ouput_part = []\n",
    "for elem in output:\n",
    "    #print(elem)\n",
    "    if index_counter[elem[1]] > 5:\n",
    "        ouput_part.append(elem)\n",
    "        write_txtblock_on_csv(OUTPUT_PART, '%s,%s\\n'%(elem[0],elem[1]))"
   ]
  },
  {
   "cell_type": "code",
   "execution_count": 5,
   "metadata": {},
   "outputs": [
    {
     "name": "stdout",
     "output_type": "stream",
     "text": [
      "148958\n"
     ]
    }
   ],
   "source": [
    "print(len(ouput_part))"
   ]
  },
  {
   "cell_type": "code",
   "execution_count": 27,
   "metadata": {},
   "outputs": [
    {
     "data": {
      "text/plain": [
       "11"
      ]
     },
     "execution_count": 27,
     "metadata": {},
     "output_type": "execute_result"
    }
   ],
   "source": [
    "index_counter[1]"
   ]
  },
  {
   "cell_type": "code",
   "execution_count": 29,
   "metadata": {},
   "outputs": [],
   "source": [
    "max_num = 0\n",
    "max_elem = None\n",
    "for key in index_counter:\n",
    "    if(index_counter[key] > max_num):\n",
    "        max_elem = key\n"
   ]
  },
  {
   "cell_type": "code",
   "execution_count": 30,
   "metadata": {},
   "outputs": [
    {
     "name": "stdout",
     "output_type": "stream",
     "text": [
      "864435\n",
      "10.1109/ENABL.1997.630822\n"
     ]
    }
   ],
   "source": [
    "print(max_elem)\n",
    "for elem_i in index:\n",
    "    if index[elem_i] == max_elem:\n",
    "        print(elem_i)"
   ]
  },
  {
   "cell_type": "code",
   "execution_count": null,
   "metadata": {},
   "outputs": [],
   "source": []
  },
  {
   "cell_type": "code",
   "execution_count": 22,
   "metadata": {},
   "outputs": [],
   "source": [
    "import leidenalg\n",
    "import igraph as ig"
   ]
  },
  {
   "cell_type": "code",
   "execution_count": 23,
   "metadata": {},
   "outputs": [],
   "source": [
    "G = ig.Graph.Erdos_Renyi(100, 0.1)"
   ]
  },
  {
   "cell_type": "code",
   "execution_count": 23,
   "metadata": {},
   "outputs": [],
   "source": [
    "part = leidenalg.find_partition(G, leidenalg.ModularityVertexPartition)"
   ]
  },
  {
   "cell_type": "code",
   "execution_count": null,
   "metadata": {},
   "outputs": [],
   "source": [
    "G2 = ig.Graph.Read_Edgelist(ouput_part)"
   ]
  },
  {
   "cell_type": "code",
   "execution_count": 13,
   "metadata": {},
   "outputs": [
    {
     "data": {
      "text/plain": [
       "('2867096', 0)"
      ]
     },
     "execution_count": 13,
     "metadata": {},
     "output_type": "execute_result"
    }
   ],
   "source": []
  },
  {
   "cell_type": "code",
   "execution_count": null,
   "metadata": {},
   "outputs": [],
   "source": []
  }
 ],
 "metadata": {
  "kernelspec": {
   "display_name": "Python 3",
   "language": "python",
   "name": "python3"
  },
  "language_info": {
   "codemirror_mode": {
    "name": "ipython",
    "version": 3
   },
   "file_extension": ".py",
   "mimetype": "text/x-python",
   "name": "python",
   "nbconvert_exporter": "python",
   "pygments_lexer": "ipython3",
   "version": "3.6.5"
  }
 },
 "nbformat": 4,
 "nbformat_minor": 2
}
